{
 "cells": [
  {
   "cell_type": "markdown",
   "id": "ddc793fc",
   "metadata": {},
   "source": [
    "### Starting notebook"
   ]
  },
  {
   "cell_type": "code",
   "execution_count": null,
   "id": "7c5e7f2b",
   "metadata": {},
   "outputs": [],
   "source": [
    "import torch\n",
    "\n",
    "import pandas as pd\n",
    "import numpy as np\n",
    "import matplotlib.pyplot as plt\n",
    "\n",
    "import warnings"
   ]
  },
  {
   "cell_type": "code",
   "execution_count": null,
   "id": "4870fe39",
   "metadata": {},
   "outputs": [],
   "source": [
    "print('Pytorch version: ', torch.__version__)\n",
    "print('Pandas version: ', pd.__version__)\n",
    "print('Numpy version: ', np.__version__)"
   ]
  },
  {
   "cell_type": "markdown",
   "id": "66a719c0",
   "metadata": {},
   "source": [
    "### Tensors"
   ]
  },
  {
   "cell_type": "code",
   "execution_count": null,
   "id": "c9a1aaf2",
   "metadata": {},
   "outputs": [],
   "source": [
    "# Scalar\n",
    "scalar = torch.tensor(7)\n",
    "print('Número de dimensões: ', scalar.ndim)\n",
    "print('Shape: ', scalar.shape)\n",
    "print('')\n",
    "print(scalar)"
   ]
  },
  {
   "cell_type": "code",
   "execution_count": null,
   "id": "b9b2cccf",
   "metadata": {},
   "outputs": [],
   "source": [
    "# Vector\n",
    "vector = torch.tensor([7, 7])\n",
    "print('Número de dimensões: ', vector.ndim)\n",
    "print('Shape: ', vector.shape)\n",
    "print('')\n",
    "print(vector)"
   ]
  },
  {
   "cell_type": "code",
   "execution_count": null,
   "id": "e4a00d20",
   "metadata": {},
   "outputs": [],
   "source": [
    "# MATRIX\n",
    "MATRIX = torch.tensor([[7, 8],\n",
    "                       [9, 10]])\n",
    "print('Número de dimensões: ', MATRIX.ndim)\n",
    "print('Shape: ', MATRIX.shape)\n",
    "print('')\n",
    "print(MATRIX)"
   ]
  },
  {
   "cell_type": "code",
   "execution_count": null,
   "id": "18d7daf6",
   "metadata": {},
   "outputs": [],
   "source": [
    "# TENSOR\n",
    "TENSOR = torch.tensor([[[1, 2, 3],\n",
    "                        [3, 6, 9],\n",
    "                        [2, 4, 5]]])\n",
    "print('Número de dimensões: ', TENSOR.ndim)\n",
    "print('Shape: ', TENSOR.shape)\n",
    "print('')\n",
    "print(TENSOR)"
   ]
  },
  {
   "cell_type": "markdown",
   "id": "73536994",
   "metadata": {},
   "source": [
    "### Random tensors"
   ]
  },
  {
   "cell_type": "code",
   "execution_count": null,
   "id": "19bed60e",
   "metadata": {},
   "outputs": [],
   "source": [
    "#Also random tensors\n",
    "\n",
    "rand = torch.rand(2)\n",
    "print('Número de dimensões: ', rand.ndim)\n",
    "print(rand)\n",
    "\n",
    "print('')\n",
    "\n",
    "rand = torch.rand(2,2)\n",
    "print('Número de dimensões: ', rand.ndim)\n",
    "print(rand)\n",
    "\n",
    "print('')\n",
    "\n",
    "rand = torch.rand(2,2,2)\n",
    "print('Número de dimensões: ', rand.ndim)\n",
    "print(rand)"
   ]
  },
  {
   "cell_type": "code",
   "execution_count": null,
   "id": "3fe9ea0f",
   "metadata": {},
   "outputs": [],
   "source": [
    "# Create a random tensor with similar shape to an image tensor\n",
    "\n",
    "random_image_size_tensor = torch.rand(size=(3, 224, 224)) # height, width, colour channels (R, G, B)\n",
    "\n",
    "print('Número de dimensões: ', random_image_size_tensor.ndim)\n",
    "print('Shape: ', random_image_size_tensor.shape)\n",
    "print('')\n",
    "#print(random_image_size_tensor)"
   ]
  },
  {
   "cell_type": "markdown",
   "id": "b57b5757",
   "metadata": {},
   "source": [
    "### Zeros, ones and range"
   ]
  },
  {
   "cell_type": "code",
   "execution_count": null,
   "id": "d12dda03",
   "metadata": {},
   "outputs": [],
   "source": [
    "# Create a tensor of all zeros\n",
    "zeros = torch.zeros(size=(3, 4))\n",
    "print('Número de dimensões: ', zeros.ndim)\n",
    "print('Shape: ', zeros.shape)\n",
    "print('')\n",
    "print(zeros)"
   ]
  },
  {
   "cell_type": "code",
   "execution_count": null,
   "id": "64dce70b",
   "metadata": {},
   "outputs": [],
   "source": [
    "# Create a tensor of all ones\n",
    "ones = torch.ones(size=(3, 4))\n",
    "print('Número de dimensões: ', ones.ndim)\n",
    "print('Shape: ', ones.shape)\n",
    "print('')\n",
    "print(ones)  "
   ]
  },
  {
   "cell_type": "code",
   "execution_count": null,
   "id": "ae624b3d",
   "metadata": {},
   "outputs": [],
   "source": [
    "# Create a tensor with a range\n",
    "one_to_ten = torch.arange(start=1, end=11, step=1)\n",
    "print('Número de dimensões: ', one_to_ten.ndim)\n",
    "print('Shape: ', one_to_ten.shape)\n",
    "print('')\n",
    "print(one_to_ten)   "
   ]
  },
  {
   "cell_type": "code",
   "execution_count": null,
   "id": "5e0c9346",
   "metadata": {},
   "outputs": [],
   "source": [
    "# Creating tensors like\n",
    "ten_zeros = torch.zeros_like(input=one_to_ten)\n",
    "print('Número de dimensões: ', ten_zeros.ndim)\n",
    "print('Shape: ', ten_zeros.shape)\n",
    "print('')\n",
    "print(ten_zeros)   "
   ]
  },
  {
   "cell_type": "markdown",
   "id": "93878120",
   "metadata": {},
   "source": [
    "### Tensor datatypes"
   ]
  },
  {
   "cell_type": "code",
   "execution_count": null,
   "id": "a8a9edb0",
   "metadata": {},
   "outputs": [],
   "source": [
    "# Default datatype for tensors is float32\n",
    "float_32_tensor = torch.tensor([3.0, 6.0, 9.0],\n",
    "                               dtype=None, # defaults to None, which is torch.float32 or whatever datatype is passed\n",
    "                               device=None, # defaults to None, which uses the default tensor type\n",
    "                               requires_grad=False) # if True, operations performed on the tensor are recorded \n",
    "\n",
    "print('Dimensões: ', float_32_tensor.ndim)\n",
    "print('Shape:     ', float_32_tensor.shape)\n",
    "print('Type:      ', float_32_tensor.dtype)\n",
    "print('Device:    ', float_32_tensor.device)\n",
    "print('')\n",
    "print(float_32_tensor)   "
   ]
  },
  {
   "cell_type": "code",
   "execution_count": null,
   "id": "6ec90fd1",
   "metadata": {},
   "outputs": [],
   "source": [
    "# Tensor with type float16\n",
    "float_16_tensor = torch.tensor([3.0, 6.0, 9.0],\n",
    "                               dtype=torch.float16)\n",
    "print('Type: ', float_16_tensor.dtype)"
   ]
  },
  {
   "cell_type": "code",
   "execution_count": null,
   "id": "bfc49a47",
   "metadata": {},
   "outputs": [],
   "source": [
    "# Tensor with type float16\n",
    "float_16_tensor = torch.tensor([3.0, 6.0, 9.0],\n",
    "                               dtype=torch.half)\n",
    "print('Type: ', float_16_tensor.dtype)"
   ]
  },
  {
   "cell_type": "code",
   "execution_count": null,
   "id": "d43bccd4",
   "metadata": {},
   "outputs": [],
   "source": [
    "# Tensor with type 8-bit\n",
    "int_8_tensor = torch.tensor([3, 6, 9],\n",
    "                               dtype=torch.int8)\n",
    "print('Type: ', int_8_tensor.dtype)"
   ]
  },
  {
   "cell_type": "markdown",
   "id": "a1965fa0",
   "metadata": {},
   "source": [
    "### Tensor operations"
   ]
  },
  {
   "cell_type": "code",
   "execution_count": null,
   "id": "03fdfc6d",
   "metadata": {},
   "outputs": [],
   "source": [
    "# Create a tensor and add 10 to it\n",
    "tensor = torch.tensor([1, 2, 3])\n",
    "tensor += 10\n",
    "print(tensor)"
   ]
  },
  {
   "cell_type": "code",
   "execution_count": null,
   "id": "4d922f8a",
   "metadata": {},
   "outputs": [],
   "source": [
    "# Substract tensor by 10 \n",
    "tensor = torch.tensor([1, 2, 3])\n",
    "tensor -= 10\n",
    "print(tensor)"
   ]
  },
  {
   "cell_type": "code",
   "execution_count": null,
   "id": "6773c94c",
   "metadata": {},
   "outputs": [],
   "source": [
    "# Multiply tensor by 10\n",
    "tensor = torch.tensor([1, 2, 3])\n",
    "tensor *= 10\n",
    "print(tensor)"
   ]
  },
  {
   "cell_type": "code",
   "execution_count": null,
   "id": "2164fc36",
   "metadata": {},
   "outputs": [],
   "source": [
    "# Divide tensor by 10\n",
    "tensor = torch.tensor([1., 2., 3.])\n",
    "tensor *= 0.1\n",
    "print(tensor)"
   ]
  },
  {
   "cell_type": "code",
   "execution_count": null,
   "id": "fdcf4140",
   "metadata": {},
   "outputs": [],
   "source": [
    "# Try out PyTorch in-built functions\n",
    "tensor = torch.tensor([1, 2, 3])\n",
    "torch.mul(tensor, 10)"
   ]
  },
  {
   "cell_type": "markdown",
   "id": "bf0ed2a1",
   "metadata": {},
   "source": [
    "### Matrix multiplication"
   ]
  },
  {
   "cell_type": "code",
   "execution_count": null,
   "id": "aa4927e1",
   "metadata": {},
   "outputs": [],
   "source": [
    "# Inner dimensions must match:\n",
    "\n",
    "tensor1 = torch.randn(3)\n",
    "tensor2 = torch.randn(3)\n",
    "\n",
    "print('Tensor1 shape: ', tensor1.shape)\n",
    "print('Tensor2 shape: ', tensor2.shape)\n",
    "print()\n",
    "print('Resulting tensor: ', torch.matmul(tensor1, tensor2))\n",
    "print('Resulting shape: ', torch.matmul(tensor1, tensor2).shape)"
   ]
  },
  {
   "cell_type": "code",
   "execution_count": null,
   "id": "e4235789",
   "metadata": {},
   "outputs": [],
   "source": [
    "# Another way\n",
    "print('Resulting tensor: ', tensor1 @ tensor2)"
   ]
  },
  {
   "cell_type": "code",
   "execution_count": null,
   "id": "323c6d18",
   "metadata": {},
   "outputs": [],
   "source": [
    "# Inner dimensions must match:\n",
    "\n",
    "tensor1 = torch.randn(3,3)\n",
    "tensor2 = torch.randn(3,3)\n",
    "\n",
    "print('Tensor1 shape: ', tensor1.shape)\n",
    "print('Tensor2 shape: ', tensor2.shape)\n",
    "print()\n",
    "print('Resulting tensor: ', torch.matmul(tensor1, tensor2))\n",
    "print()\n",
    "print('Resulting shape: ', torch.matmul(tensor1, tensor2).shape)"
   ]
  },
  {
   "cell_type": "code",
   "execution_count": null,
   "id": "f1facd16",
   "metadata": {},
   "outputs": [],
   "source": [
    "# Inner dimensions must match:\n",
    "\n",
    "tensor1 = torch.randn(2,2,2)\n",
    "tensor2 = torch.randn(2,2,2)\n",
    "\n",
    "print('Tensor1 shape: ', tensor1.shape)\n",
    "print('Tensor2 shape: ', tensor2.shape)\n",
    "print()\n",
    "print('Resulting tensor: ', torch.matmul(tensor1, tensor2))\n",
    "print()\n",
    "print('Resulting shape: ', torch.matmul(tensor1, tensor2).shape)"
   ]
  },
  {
   "cell_type": "code",
   "execution_count": null,
   "id": "1ad095cb",
   "metadata": {},
   "outputs": [],
   "source": [
    "# Also, element-wise multiplication:\n",
    "\n",
    "tensor1 = torch.randn(3)\n",
    "tensor2 = torch.randn(3)\n",
    "\n",
    "print('Tensor1 shape: ', tensor1.shape)\n",
    "print('Tensor2 shape: ', tensor2.shape)\n",
    "print()\n",
    "print('Resulting tensor: ', tensor1 * tensor2)\n",
    "print('Resulting shape: ', (tensor1 * tensor2).shape)"
   ]
  },
  {
   "cell_type": "code",
   "execution_count": null,
   "id": "6f2366fe",
   "metadata": {},
   "outputs": [],
   "source": [
    "# We can transpose tensors to match their dimensions\n",
    "\n",
    "tensor1 = torch.randn(3,2)\n",
    "tensor2 = torch.randn(3,2)\n",
    "\n",
    "tensor2 = torch.transpose(tensor2,0,1)\n",
    "\n",
    "print('Tensor1 shape: ', tensor1.shape)\n",
    "print('Tensor2 shape: ', tensor2.shape)\n",
    "print()\n",
    "print('Resulting tensor: ', torch.matmul(tensor1, tensor2))\n",
    "print()\n",
    "print('Resulting shape: ', torch.matmul(tensor1, tensor2).shape)"
   ]
  },
  {
   "cell_type": "code",
   "execution_count": null,
   "id": "ea3fa486",
   "metadata": {},
   "outputs": [],
   "source": [
    "# Also \n",
    "\n",
    "\n",
    "tensor1 = torch.randn(3,2)\n",
    "tensor2 = torch.randn(3,2)\n",
    "\n",
    "print('Tensor1 shape: ', tensor1.shape)\n",
    "print('Tensor2 shape: ', tensor2.shape)\n",
    "print()\n",
    "print('Resulting tensor: ', torch.matmul(tensor1, tensor2.T))\n",
    "print()\n",
    "print('Resulting shape: ', torch.matmul(tensor1, tensor2.T).shape)"
   ]
  },
  {
   "cell_type": "code",
   "execution_count": null,
   "id": "63a9460d",
   "metadata": {},
   "outputs": [],
   "source": [
    "# Since the linear layer starts with a random weights matrix, let's make it reproducible (more on this later)\n",
    "torch.manual_seed(42)\n",
    "\n",
    "# This uses matrix multiplication\n",
    "linear = torch.nn.Linear(in_features=2, # in_features = matches inner dimension of input \n",
    "                         out_features=6) # out_features = describes outer value \n",
    "\n",
    "x = tensor1\n",
    "output = linear(x)\n",
    "\n",
    "print(f\"Input shape: {x.shape}\\n\")\n",
    "print(f\"Output:\\n{output}\\n\\nOutput shape: {output.shape}\")"
   ]
  },
  {
   "cell_type": "markdown",
   "id": "4bf58605",
   "metadata": {},
   "source": [
    "### Finding the min, max, mean, sum, etc (aggregation)"
   ]
  },
  {
   "cell_type": "code",
   "execution_count": null,
   "id": "cf52e8fd",
   "metadata": {},
   "outputs": [],
   "source": [
    "# Create a tensor\n",
    "x = torch.arange(0, 100, 10)\n",
    "print(x)"
   ]
  },
  {
   "cell_type": "code",
   "execution_count": null,
   "id": "28bde885",
   "metadata": {},
   "outputs": [],
   "source": [
    "# let's perform some aggregation\n",
    "\n",
    "print(f\"Minimum: {x.min()}\")\n",
    "print(f\"Maximum: {x.max()}\")\n",
    "# print(f\"Mean: {x.mean()}\") # this will error\n",
    "print(f\"Mean: {x.type(torch.float32).mean()}\") # won't work without float datatype\n",
    "print(f\"Sum: {x.sum()}\")"
   ]
  },
  {
   "cell_type": "code",
   "execution_count": null,
   "id": "f55bcd60",
   "metadata": {},
   "outputs": [],
   "source": [
    "# Create a tensor\n",
    "tensor = torch.arange(10, 100, 10)\n",
    "print(f\"Tensor: {tensor}\")\n",
    "\n",
    "# Returns index of max and min values\n",
    "print(f\"Index where max value occurs: {tensor.argmax()}\")\n",
    "print(f\"Index where min value occurs: {tensor.argmin()}\")"
   ]
  },
  {
   "cell_type": "markdown",
   "id": "b59e5e80",
   "metadata": {},
   "source": [
    "### Change tensor datatype"
   ]
  },
  {
   "cell_type": "code",
   "execution_count": null,
   "id": "f222ae74",
   "metadata": {},
   "outputs": [],
   "source": [
    "# Create a tensor and check its datatype\n",
    "tensor = torch.arange(10., 100., 10.)\n",
    "tensor.dtype"
   ]
  },
  {
   "cell_type": "code",
   "execution_count": null,
   "id": "902f6fef",
   "metadata": {},
   "outputs": [],
   "source": [
    "# Create a float16 tensor\n",
    "tensor_float16 = tensor.type(torch.float16)\n",
    "tensor_float16"
   ]
  },
  {
   "cell_type": "code",
   "execution_count": null,
   "id": "e99d32ed",
   "metadata": {},
   "outputs": [],
   "source": [
    "# Change tensor type:\n",
    "tensor_float16.type(dtype=torch.float32)"
   ]
  },
  {
   "cell_type": "code",
   "execution_count": null,
   "id": "08f12697",
   "metadata": {},
   "outputs": [],
   "source": [
    "# Create a int8 tensor\n",
    "tensor_int8 = tensor.type(torch.int8)\n",
    "tensor_int8"
   ]
  },
  {
   "cell_type": "code",
   "execution_count": null,
   "id": "b5bdc78c",
   "metadata": {},
   "outputs": [],
   "source": [
    "# Change tensor type:\n",
    "tensor_int8.type(dtype=torch.float32)"
   ]
  },
  {
   "cell_type": "markdown",
   "id": "c9ee6f7d",
   "metadata": {},
   "source": [
    "### Reshaping, stacking, squeezing and unsqueezing"
   ]
  },
  {
   "cell_type": "code",
   "execution_count": null,
   "id": "1a43cf43",
   "metadata": {},
   "outputs": [],
   "source": [
    "# Create a tensor\n",
    "x = torch.arange(1., 8.)\n",
    "x, x.shape"
   ]
  },
  {
   "cell_type": "code",
   "execution_count": null,
   "id": "00b40587",
   "metadata": {},
   "outputs": [],
   "source": [
    "# Add an extra dimension\n",
    "x_reshaped = x.reshape(1, 7)\n",
    "x_reshaped, x_reshaped.shape"
   ]
  },
  {
   "cell_type": "code",
   "execution_count": null,
   "id": "03579e05",
   "metadata": {},
   "outputs": [],
   "source": [
    "# Change view (keeps same data as original but changes view)\n",
    "z = x.view(1, 7)\n",
    "z, z.shape"
   ]
  },
  {
   "cell_type": "code",
   "execution_count": null,
   "id": "980a8a44",
   "metadata": {},
   "outputs": [],
   "source": [
    "# Changing z changes x\n",
    "z[:, 0] = 5\n",
    "z, x"
   ]
  },
  {
   "cell_type": "code",
   "execution_count": null,
   "id": "b8a43bd8",
   "metadata": {},
   "outputs": [],
   "source": [
    "# Stack tensors on top of each other\n",
    "x_stacked = torch.stack([x, x, x, x], dim=0) # try changing dim to dim=1 and see what happens\n",
    "x_stacked"
   ]
  },
  {
   "cell_type": "code",
   "execution_count": null,
   "id": "e000f57c",
   "metadata": {},
   "outputs": [],
   "source": [
    "print(f\"Previous tensor: {x_reshaped}\")\n",
    "print(f\"Previous shape: {x_reshaped.shape}\")\n",
    "\n",
    "# Remove extra dimension from x_reshaped\n",
    "x_squeezed = x_reshaped.squeeze()\n",
    "print(f\"\\nNew tensor: {x_squeezed}\")\n",
    "print(f\"New shape: {x_squeezed.shape}\")"
   ]
  },
  {
   "cell_type": "code",
   "execution_count": null,
   "id": "cbec9df3",
   "metadata": {},
   "outputs": [],
   "source": [
    "print(f\"Previous tensor: {x_squeezed}\")\n",
    "print(f\"Previous shape: {x_squeezed.shape}\")\n",
    "\n",
    "## Add an extra dimension with unsqueeze\n",
    "x_unsqueezed = x_squeezed.unsqueeze(dim=0)\n",
    "print(f\"\\nNew tensor: {x_unsqueezed}\")\n",
    "print(f\"New shape: {x_unsqueezed.shape}\")"
   ]
  },
  {
   "cell_type": "code",
   "execution_count": null,
   "id": "bfa62b88",
   "metadata": {},
   "outputs": [],
   "source": [
    "# Create tensor with specific shape\n",
    "x_original = torch.rand(size=(224, 224, 3))\n",
    "\n",
    "# Permute the original tensor to rearrange the axis order\n",
    "x_permuted = x_original.permute(2, 0, 1) # shifts axis 0->1, 1->2, 2->0\n",
    "\n",
    "print(f\"Previous shape: {x_original.shape}\")\n",
    "print(f\"New shape: {x_permuted.shape}\")"
   ]
  },
  {
   "cell_type": "markdown",
   "id": "458c70e2-b409-4ea1-88c6-36cdcb13a5ce",
   "metadata": {},
   "source": [
    "### Indexing\n",
    "Select specific data from tensors"
   ]
  },
  {
   "cell_type": "code",
   "execution_count": null,
   "id": "dc3da739-0a98-4c6b-b693-047ed12fe825",
   "metadata": {},
   "outputs": [],
   "source": [
    "# Create a tensor \n",
    "x = torch.arange(1, 10).reshape(1, 3, 3)\n",
    "x, x.shape"
   ]
  },
  {
   "cell_type": "code",
   "execution_count": null,
   "id": "083b1b3f-45d4-4ffc-94de-c339203badf2",
   "metadata": {},
   "outputs": [],
   "source": [
    "# Let's index bracket by bracket\n",
    "print(f\"First square bracket:\\n{x[0]}\") \n",
    "print(f\"Second square bracket: {x[0][0]}\") \n",
    "print(f\"Third square bracket: {x[0][0][0]}\")"
   ]
  },
  {
   "cell_type": "code",
   "execution_count": null,
   "id": "328c6fc6-c409-4f29-84dc-4cf09c3b9c70",
   "metadata": {},
   "outputs": [],
   "source": [
    "# Get all values of 0th dimension and the 0 index of 1st dimension\n",
    "x[:, 0]"
   ]
  },
  {
   "cell_type": "markdown",
   "id": "22e02df1-bbed-48f3-86e7-aebd3c8261aa",
   "metadata": {},
   "source": [
    "# PyTorch tensors & NumPy"
   ]
  },
  {
   "cell_type": "code",
   "execution_count": null,
   "id": "652cbb10-c21e-4635-a7ef-6e4d78dd8f85",
   "metadata": {},
   "outputs": [],
   "source": [
    "# NumPy array to tensor\n",
    "import numpy as np\n",
    "array = np.arange(1.0, 8.0)\n",
    "tensor = torch.from_numpy(array)\n",
    "array, tensor"
   ]
  },
  {
   "cell_type": "code",
   "execution_count": null,
   "id": "bc8d1f7b-bc96-4179-a8e5-606ec481c7fe",
   "metadata": {},
   "outputs": [],
   "source": [
    "# Change the array, keep the tensor\n",
    "array = array + 1\n",
    "array, tensor"
   ]
  },
  {
   "cell_type": "code",
   "execution_count": null,
   "id": "02274d54-0e4b-491c-9d33-b58512ba1ed6",
   "metadata": {},
   "outputs": [],
   "source": [
    "# Tensor to NumPy array\n",
    "tensor = torch.ones(7) # create a tensor of ones with dtype=float32\n",
    "numpy_tensor = tensor.numpy() # will be dtype=float32 unless changed\n",
    "tensor, numpy_tensor"
   ]
  },
  {
   "cell_type": "markdown",
   "id": "20bf4afc-ae81-4b09-9d8b-a139bbe55531",
   "metadata": {},
   "source": [
    "# Reproducibility"
   ]
  },
  {
   "cell_type": "code",
   "execution_count": null,
   "id": "0e58c2eb-6779-4bfd-9cc3-5fda8ee1136d",
   "metadata": {},
   "outputs": [],
   "source": [
    "# Create two random tensors\n",
    "random_tensor_A = torch.rand(3, 4)\n",
    "random_tensor_B = torch.rand(3, 4)\n",
    "\n",
    "print(f\"Tensor A:\\n{random_tensor_A}\\n\")\n",
    "print(f\"Tensor B:\\n{random_tensor_B}\\n\")\n",
    "\n",
    "print(f\"Does Tensor A equal Tensor B? (anywhere)\")\n",
    "random_tensor_A == random_tensor_B"
   ]
  },
  {
   "cell_type": "code",
   "execution_count": null,
   "id": "b8cf74f8-aa18-43af-a69c-e2fa3e77305d",
   "metadata": {},
   "outputs": [],
   "source": [
    "# # Set the random seed\n",
    "RANDOM_SEED=42 \n",
    "\n",
    "torch.manual_seed(seed=RANDOM_SEED) \n",
    "random_tensor_C = torch.rand(3, 4)\n",
    "\n",
    "# Have to reset the seed every time a new rand() is called \n",
    "torch.random.manual_seed(seed=RANDOM_SEED) \n",
    "random_tensor_D = torch.rand(3, 4)\n",
    "\n",
    "print(f\"Tensor C:\\n{random_tensor_C}\\n\")\n",
    "print(f\"Tensor D:\\n{random_tensor_D}\\n\")\n",
    "\n",
    "print(f\"Does Tensor C equal Tensor D? (anywhere)\")\n",
    "random_tensor_C == random_tensor_D"
   ]
  },
  {
   "cell_type": "markdown",
   "id": "2240938c-e98d-463b-88d3-a26a47078080",
   "metadata": {},
   "source": [
    "# Running tensors on GPUs "
   ]
  },
  {
   "cell_type": "code",
   "execution_count": 53,
   "id": "3f6a74c6-cff5-412b-ad77-8a94668c827c",
   "metadata": {},
   "outputs": [
    {
     "data": {
      "text/plain": [
       "False"
      ]
     },
     "execution_count": 53,
     "metadata": {},
     "output_type": "execute_result"
    }
   ],
   "source": [
    "# Check for GPU Running Locally\n",
    "import torch\n",
    "torch.cuda.is_available()"
   ]
  },
  {
   "cell_type": "code",
   "execution_count": 55,
   "id": "4f89accf-24c1-4e01-854f-cff30b3905f8",
   "metadata": {},
   "outputs": [
    {
     "data": {
      "text/plain": [
       "0"
      ]
     },
     "execution_count": 55,
     "metadata": {},
     "output_type": "execute_result"
    }
   ],
   "source": [
    "# Count number of devices\n",
    "torch.cuda.device_count()"
   ]
  },
  {
   "cell_type": "code",
   "execution_count": 54,
   "id": "13b701a0-2c44-405f-a927-51e645291751",
   "metadata": {},
   "outputs": [
    {
     "data": {
      "text/plain": [
       "'cpu'"
      ]
     },
     "execution_count": 54,
     "metadata": {},
     "output_type": "execute_result"
    }
   ],
   "source": [
    "# Set device type\n",
    "device = \"cuda\" if torch.cuda.is_available() else \"cpu\"\n",
    "device"
   ]
  },
  {
   "cell_type": "code",
   "execution_count": 56,
   "id": "d5e50436-1870-4495-b1b7-b0fc435b8a7c",
   "metadata": {},
   "outputs": [
    {
     "name": "stdout",
     "output_type": "stream",
     "text": [
      "tensor([1, 2, 3]) cpu\n"
     ]
    },
    {
     "data": {
      "text/plain": [
       "tensor([1, 2, 3])"
      ]
     },
     "execution_count": 56,
     "metadata": {},
     "output_type": "execute_result"
    }
   ],
   "source": [
    "# Create tensor (default on CPU)\n",
    "tensor = torch.tensor([1, 2, 3])\n",
    "\n",
    "# Tensor not on GPU\n",
    "print(tensor, tensor.device)\n",
    "\n",
    "# Move tensor to GPU (if available)\n",
    "tensor_on_gpu = tensor.to(device)\n",
    "tensor_on_gpu"
   ]
  },
  {
   "cell_type": "code",
   "execution_count": null,
   "id": "0e3fe168-cbf2-43a9-b9f1-60bb98af417a",
   "metadata": {},
   "outputs": [],
   "source": []
  }
 ],
 "metadata": {
  "kernelspec": {
   "display_name": "Python 3 (ipykernel)",
   "language": "python",
   "name": "python3"
  },
  "language_info": {
   "codemirror_mode": {
    "name": "ipython",
    "version": 3
   },
   "file_extension": ".py",
   "mimetype": "text/x-python",
   "name": "python",
   "nbconvert_exporter": "python",
   "pygments_lexer": "ipython3",
   "version": "3.12.5"
  }
 },
 "nbformat": 4,
 "nbformat_minor": 5
}

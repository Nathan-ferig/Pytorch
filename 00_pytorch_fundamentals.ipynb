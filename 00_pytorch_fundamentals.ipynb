{
  "cells": [
    {
      "cell_type": "markdown",
      "id": "ddc793fc",
      "metadata": {
        "id": "ddc793fc"
      },
      "source": [
        "### Starting notebook"
      ]
    },
    {
      "cell_type": "code",
      "execution_count": 5,
      "id": "7c5e7f2b",
      "metadata": {
        "id": "7c5e7f2b"
      },
      "outputs": [],
      "source": [
        "import torch\n",
        "\n",
        "import pandas as pd\n",
        "import numpy as np\n",
        "import matplotlib.pyplot as plt\n",
        "\n",
        "import warnings"
      ]
    },
    {
      "cell_type": "code",
      "execution_count": 6,
      "id": "4870fe39",
      "metadata": {
        "id": "4870fe39",
        "colab": {
          "base_uri": "https://localhost:8080/"
        },
        "outputId": "1456e2b9-e196-4e50-a216-4b9d07b20a47"
      },
      "outputs": [
        {
          "output_type": "stream",
          "name": "stdout",
          "text": [
            "Pytorch version:  2.4.0+cu121\n",
            "Pandas version:  2.1.4\n",
            "Numpy version:  1.26.4\n"
          ]
        }
      ],
      "source": [
        "print('Pytorch version: ', torch.__version__)\n",
        "print('Pandas version: ', pd.__version__)\n",
        "print('Numpy version: ', np.__version__)"
      ]
    },
    {
      "cell_type": "markdown",
      "id": "66a719c0",
      "metadata": {
        "id": "66a719c0"
      },
      "source": [
        "### Tensors"
      ]
    },
    {
      "cell_type": "code",
      "execution_count": 7,
      "id": "c9a1aaf2",
      "metadata": {
        "id": "c9a1aaf2",
        "colab": {
          "base_uri": "https://localhost:8080/"
        },
        "outputId": "9aecc55f-eb3d-47c8-8360-def9609731a6"
      },
      "outputs": [
        {
          "output_type": "stream",
          "name": "stdout",
          "text": [
            "Número de dimensões:  0\n",
            "Shape:  torch.Size([])\n",
            "\n",
            "tensor(7)\n"
          ]
        }
      ],
      "source": [
        "# Scalar\n",
        "scalar = torch.tensor(7)\n",
        "print('Número de dimensões: ', scalar.ndim)\n",
        "print('Shape: ', scalar.shape)\n",
        "print('')\n",
        "print(scalar)"
      ]
    },
    {
      "cell_type": "code",
      "execution_count": 8,
      "id": "b9b2cccf",
      "metadata": {
        "id": "b9b2cccf",
        "colab": {
          "base_uri": "https://localhost:8080/"
        },
        "outputId": "bccdf342-9bb6-40b1-fd1c-2df8eb07dda8"
      },
      "outputs": [
        {
          "output_type": "stream",
          "name": "stdout",
          "text": [
            "Número de dimensões:  1\n",
            "Shape:  torch.Size([2])\n",
            "\n",
            "tensor([7, 7])\n"
          ]
        }
      ],
      "source": [
        "# Vector\n",
        "vector = torch.tensor([7, 7])\n",
        "print('Número de dimensões: ', vector.ndim)\n",
        "print('Shape: ', vector.shape)\n",
        "print('')\n",
        "print(vector)"
      ]
    },
    {
      "cell_type": "code",
      "execution_count": 9,
      "id": "e4a00d20",
      "metadata": {
        "id": "e4a00d20",
        "colab": {
          "base_uri": "https://localhost:8080/"
        },
        "outputId": "f3fe5ae1-f7a1-45c6-ba5a-40c227dc18fb"
      },
      "outputs": [
        {
          "output_type": "stream",
          "name": "stdout",
          "text": [
            "Número de dimensões:  2\n",
            "Shape:  torch.Size([2, 2])\n",
            "\n",
            "tensor([[ 7,  8],\n",
            "        [ 9, 10]])\n"
          ]
        }
      ],
      "source": [
        "# MATRIX\n",
        "MATRIX = torch.tensor([[7, 8],\n",
        "                       [9, 10]])\n",
        "print('Número de dimensões: ', MATRIX.ndim)\n",
        "print('Shape: ', MATRIX.shape)\n",
        "print('')\n",
        "print(MATRIX)"
      ]
    },
    {
      "cell_type": "code",
      "execution_count": 10,
      "id": "18d7daf6",
      "metadata": {
        "id": "18d7daf6",
        "colab": {
          "base_uri": "https://localhost:8080/"
        },
        "outputId": "47364e5d-fe6c-456f-f970-a945a4ac6430"
      },
      "outputs": [
        {
          "output_type": "stream",
          "name": "stdout",
          "text": [
            "Número de dimensões:  3\n",
            "Shape:  torch.Size([1, 3, 3])\n",
            "\n",
            "tensor([[[1, 2, 3],\n",
            "         [3, 6, 9],\n",
            "         [2, 4, 5]]])\n"
          ]
        }
      ],
      "source": [
        "# TENSOR\n",
        "TENSOR = torch.tensor([[[1, 2, 3],\n",
        "                        [3, 6, 9],\n",
        "                        [2, 4, 5]]])\n",
        "print('Número de dimensões: ', TENSOR.ndim)\n",
        "print('Shape: ', TENSOR.shape)\n",
        "print('')\n",
        "print(TENSOR)"
      ]
    },
    {
      "cell_type": "markdown",
      "id": "73536994",
      "metadata": {
        "id": "73536994"
      },
      "source": [
        "### Random tensors"
      ]
    },
    {
      "cell_type": "code",
      "execution_count": 11,
      "id": "19bed60e",
      "metadata": {
        "id": "19bed60e",
        "colab": {
          "base_uri": "https://localhost:8080/"
        },
        "outputId": "f2848dbf-350e-4259-8c7a-116cb45a9f8b"
      },
      "outputs": [
        {
          "output_type": "stream",
          "name": "stdout",
          "text": [
            "Número de dimensões:  1\n",
            "tensor([0.1137, 0.9212])\n",
            "\n",
            "Número de dimensões:  2\n",
            "tensor([[0.2834, 0.9582],\n",
            "        [0.6202, 0.9679]])\n",
            "\n",
            "Número de dimensões:  3\n",
            "tensor([[[0.8830, 0.5781],\n",
            "         [0.8220, 0.8980]],\n",
            "\n",
            "        [[0.0940, 0.7943],\n",
            "         [0.3740, 0.9221]]])\n"
          ]
        }
      ],
      "source": [
        "#Also random tensors\n",
        "\n",
        "rand = torch.rand(2)\n",
        "print('Número de dimensões: ', rand.ndim)\n",
        "print(rand)\n",
        "\n",
        "print('')\n",
        "\n",
        "rand = torch.rand(2,2)\n",
        "print('Número de dimensões: ', rand.ndim)\n",
        "print(rand)\n",
        "\n",
        "print('')\n",
        "\n",
        "rand = torch.rand(2,2,2)\n",
        "print('Número de dimensões: ', rand.ndim)\n",
        "print(rand)"
      ]
    },
    {
      "cell_type": "code",
      "execution_count": 12,
      "id": "3fe9ea0f",
      "metadata": {
        "id": "3fe9ea0f",
        "colab": {
          "base_uri": "https://localhost:8080/"
        },
        "outputId": "e19a0557-efc4-495d-c73c-9ca0ffbea753"
      },
      "outputs": [
        {
          "output_type": "stream",
          "name": "stdout",
          "text": [
            "Número de dimensões:  3\n",
            "Shape:  torch.Size([3, 224, 224])\n",
            "\n"
          ]
        }
      ],
      "source": [
        "# Create a random tensor with similar shape to an image tensor\n",
        "\n",
        "random_image_size_tensor = torch.rand(size=(3, 224, 224)) # height, width, colour channels (R, G, B)\n",
        "\n",
        "print('Número de dimensões: ', random_image_size_tensor.ndim)\n",
        "print('Shape: ', random_image_size_tensor.shape)\n",
        "print('')\n",
        "#print(random_image_size_tensor)"
      ]
    },
    {
      "cell_type": "markdown",
      "id": "b57b5757",
      "metadata": {
        "id": "b57b5757"
      },
      "source": [
        "### Zeros, ones and range"
      ]
    },
    {
      "cell_type": "code",
      "execution_count": 13,
      "id": "d12dda03",
      "metadata": {
        "id": "d12dda03",
        "colab": {
          "base_uri": "https://localhost:8080/"
        },
        "outputId": "113017fa-75f5-4302-d23b-6ff61ba5f849"
      },
      "outputs": [
        {
          "output_type": "stream",
          "name": "stdout",
          "text": [
            "Número de dimensões:  2\n",
            "Shape:  torch.Size([3, 4])\n",
            "\n",
            "tensor([[0., 0., 0., 0.],\n",
            "        [0., 0., 0., 0.],\n",
            "        [0., 0., 0., 0.]])\n"
          ]
        }
      ],
      "source": [
        "# Create a tensor of all zeros\n",
        "zeros = torch.zeros(size=(3, 4))\n",
        "print('Número de dimensões: ', zeros.ndim)\n",
        "print('Shape: ', zeros.shape)\n",
        "print('')\n",
        "print(zeros)"
      ]
    },
    {
      "cell_type": "code",
      "execution_count": 14,
      "id": "64dce70b",
      "metadata": {
        "id": "64dce70b",
        "colab": {
          "base_uri": "https://localhost:8080/"
        },
        "outputId": "d21443d8-191e-480b-dafc-d0b657546d22"
      },
      "outputs": [
        {
          "output_type": "stream",
          "name": "stdout",
          "text": [
            "Número de dimensões:  2\n",
            "Shape:  torch.Size([3, 4])\n",
            "\n",
            "tensor([[1., 1., 1., 1.],\n",
            "        [1., 1., 1., 1.],\n",
            "        [1., 1., 1., 1.]])\n"
          ]
        }
      ],
      "source": [
        "# Create a tensor of all ones\n",
        "ones = torch.ones(size=(3, 4))\n",
        "print('Número de dimensões: ', ones.ndim)\n",
        "print('Shape: ', ones.shape)\n",
        "print('')\n",
        "print(ones)"
      ]
    },
    {
      "cell_type": "code",
      "execution_count": 15,
      "id": "ae624b3d",
      "metadata": {
        "id": "ae624b3d",
        "colab": {
          "base_uri": "https://localhost:8080/"
        },
        "outputId": "13e78b1a-9ef3-4df9-e9c6-db68b4a802c6"
      },
      "outputs": [
        {
          "output_type": "stream",
          "name": "stdout",
          "text": [
            "Número de dimensões:  1\n",
            "Shape:  torch.Size([10])\n",
            "\n",
            "tensor([ 1,  2,  3,  4,  5,  6,  7,  8,  9, 10])\n"
          ]
        }
      ],
      "source": [
        "# Create a tensor with a range\n",
        "one_to_ten = torch.arange(start=1, end=11, step=1)\n",
        "print('Número de dimensões: ', one_to_ten.ndim)\n",
        "print('Shape: ', one_to_ten.shape)\n",
        "print('')\n",
        "print(one_to_ten)"
      ]
    },
    {
      "cell_type": "code",
      "execution_count": 16,
      "id": "5e0c9346",
      "metadata": {
        "id": "5e0c9346",
        "colab": {
          "base_uri": "https://localhost:8080/"
        },
        "outputId": "a48f8caa-1b95-4e7f-cb9a-9f5eab068d98"
      },
      "outputs": [
        {
          "output_type": "stream",
          "name": "stdout",
          "text": [
            "Número de dimensões:  1\n",
            "Shape:  torch.Size([10])\n",
            "\n",
            "tensor([0, 0, 0, 0, 0, 0, 0, 0, 0, 0])\n"
          ]
        }
      ],
      "source": [
        "# Creating tensors like\n",
        "ten_zeros = torch.zeros_like(input=one_to_ten)\n",
        "print('Número de dimensões: ', ten_zeros.ndim)\n",
        "print('Shape: ', ten_zeros.shape)\n",
        "print('')\n",
        "print(ten_zeros)"
      ]
    },
    {
      "cell_type": "markdown",
      "id": "93878120",
      "metadata": {
        "id": "93878120"
      },
      "source": [
        "### Tensor datatypes"
      ]
    },
    {
      "cell_type": "code",
      "execution_count": 17,
      "id": "a8a9edb0",
      "metadata": {
        "id": "a8a9edb0",
        "colab": {
          "base_uri": "https://localhost:8080/"
        },
        "outputId": "042e8491-3a78-49c2-e0d0-1959cc2a6187"
      },
      "outputs": [
        {
          "output_type": "stream",
          "name": "stdout",
          "text": [
            "Dimensões:  1\n",
            "Shape:      torch.Size([3])\n",
            "Type:       torch.float32\n",
            "Device:     cpu\n",
            "\n",
            "tensor([3., 6., 9.])\n"
          ]
        }
      ],
      "source": [
        "# Default datatype for tensors is float32\n",
        "float_32_tensor = torch.tensor([3.0, 6.0, 9.0],\n",
        "                               dtype=None, # defaults to None, which is torch.float32 or whatever datatype is passed\n",
        "                               device=None, # defaults to None, which uses the default tensor type\n",
        "                               requires_grad=False) # if True, operations performed on the tensor are recorded\n",
        "\n",
        "print('Dimensões: ', float_32_tensor.ndim)\n",
        "print('Shape:     ', float_32_tensor.shape)\n",
        "print('Type:      ', float_32_tensor.dtype)\n",
        "print('Device:    ', float_32_tensor.device)\n",
        "print('')\n",
        "print(float_32_tensor)"
      ]
    },
    {
      "cell_type": "code",
      "execution_count": 18,
      "id": "6ec90fd1",
      "metadata": {
        "id": "6ec90fd1",
        "colab": {
          "base_uri": "https://localhost:8080/"
        },
        "outputId": "a8f7fd43-07a3-471e-9a31-5ee294c8e78c"
      },
      "outputs": [
        {
          "output_type": "stream",
          "name": "stdout",
          "text": [
            "Type:  torch.float16\n"
          ]
        }
      ],
      "source": [
        "# Tensor with type float16\n",
        "float_16_tensor = torch.tensor([3.0, 6.0, 9.0],\n",
        "                               dtype=torch.float16)\n",
        "print('Type: ', float_16_tensor.dtype)"
      ]
    },
    {
      "cell_type": "code",
      "execution_count": 19,
      "id": "bfc49a47",
      "metadata": {
        "id": "bfc49a47",
        "colab": {
          "base_uri": "https://localhost:8080/"
        },
        "outputId": "c89fbeae-1047-4799-e03e-a935d3acd723"
      },
      "outputs": [
        {
          "output_type": "stream",
          "name": "stdout",
          "text": [
            "Type:  torch.float16\n"
          ]
        }
      ],
      "source": [
        "# Tensor with type float16\n",
        "float_16_tensor = torch.tensor([3.0, 6.0, 9.0],\n",
        "                               dtype=torch.half)\n",
        "print('Type: ', float_16_tensor.dtype)"
      ]
    },
    {
      "cell_type": "code",
      "execution_count": 20,
      "id": "d43bccd4",
      "metadata": {
        "id": "d43bccd4",
        "colab": {
          "base_uri": "https://localhost:8080/"
        },
        "outputId": "53ca5a8c-4330-4dbb-c0bb-a557fa4e7676"
      },
      "outputs": [
        {
          "output_type": "stream",
          "name": "stdout",
          "text": [
            "Type:  torch.int8\n"
          ]
        }
      ],
      "source": [
        "# Tensor with type 8-bit\n",
        "int_8_tensor = torch.tensor([3, 6, 9],\n",
        "                               dtype=torch.int8)\n",
        "print('Type: ', int_8_tensor.dtype)"
      ]
    },
    {
      "cell_type": "markdown",
      "id": "a1965fa0",
      "metadata": {
        "id": "a1965fa0"
      },
      "source": [
        "### Tensor operations"
      ]
    },
    {
      "cell_type": "code",
      "execution_count": 21,
      "id": "03fdfc6d",
      "metadata": {
        "id": "03fdfc6d",
        "colab": {
          "base_uri": "https://localhost:8080/"
        },
        "outputId": "66898e0f-4051-4bb2-f36e-46a973b6ae2b"
      },
      "outputs": [
        {
          "output_type": "stream",
          "name": "stdout",
          "text": [
            "tensor([11, 12, 13])\n"
          ]
        }
      ],
      "source": [
        "# Create a tensor and add 10 to it\n",
        "tensor = torch.tensor([1, 2, 3])\n",
        "tensor += 10\n",
        "print(tensor)"
      ]
    },
    {
      "cell_type": "code",
      "execution_count": 22,
      "id": "4d922f8a",
      "metadata": {
        "id": "4d922f8a",
        "colab": {
          "base_uri": "https://localhost:8080/"
        },
        "outputId": "78a55eba-4bdb-4522-f387-7beb34b96c36"
      },
      "outputs": [
        {
          "output_type": "stream",
          "name": "stdout",
          "text": [
            "tensor([-9, -8, -7])\n"
          ]
        }
      ],
      "source": [
        "# Substract tensor by 10\n",
        "tensor = torch.tensor([1, 2, 3])\n",
        "tensor -= 10\n",
        "print(tensor)"
      ]
    },
    {
      "cell_type": "code",
      "execution_count": 23,
      "id": "6773c94c",
      "metadata": {
        "id": "6773c94c",
        "colab": {
          "base_uri": "https://localhost:8080/"
        },
        "outputId": "fe43d80d-908f-4765-b886-4dd82101f9c8"
      },
      "outputs": [
        {
          "output_type": "stream",
          "name": "stdout",
          "text": [
            "tensor([10, 20, 30])\n"
          ]
        }
      ],
      "source": [
        "# Multiply tensor by 10\n",
        "tensor = torch.tensor([1, 2, 3])\n",
        "tensor *= 10\n",
        "print(tensor)"
      ]
    },
    {
      "cell_type": "code",
      "execution_count": 24,
      "id": "2164fc36",
      "metadata": {
        "id": "2164fc36",
        "colab": {
          "base_uri": "https://localhost:8080/"
        },
        "outputId": "6360cb24-b354-4199-d829-a450df4662b7"
      },
      "outputs": [
        {
          "output_type": "stream",
          "name": "stdout",
          "text": [
            "tensor([0.1000, 0.2000, 0.3000])\n"
          ]
        }
      ],
      "source": [
        "# Divide tensor by 10\n",
        "tensor = torch.tensor([1., 2., 3.])\n",
        "tensor *= 0.1\n",
        "print(tensor)"
      ]
    },
    {
      "cell_type": "code",
      "execution_count": 25,
      "id": "fdcf4140",
      "metadata": {
        "id": "fdcf4140",
        "colab": {
          "base_uri": "https://localhost:8080/"
        },
        "outputId": "40d502cf-fc83-4977-aa00-68c3d32deae5"
      },
      "outputs": [
        {
          "output_type": "execute_result",
          "data": {
            "text/plain": [
              "tensor([10, 20, 30])"
            ]
          },
          "metadata": {},
          "execution_count": 25
        }
      ],
      "source": [
        "# Try out PyTorch in-built functions\n",
        "tensor = torch.tensor([1, 2, 3])\n",
        "torch.mul(tensor, 10)"
      ]
    },
    {
      "cell_type": "markdown",
      "id": "bf0ed2a1",
      "metadata": {
        "id": "bf0ed2a1"
      },
      "source": [
        "### Matrix multiplication"
      ]
    },
    {
      "cell_type": "code",
      "execution_count": 26,
      "id": "aa4927e1",
      "metadata": {
        "id": "aa4927e1",
        "colab": {
          "base_uri": "https://localhost:8080/"
        },
        "outputId": "6f96a095-1a89-4191-8482-6f430c1e6fb3"
      },
      "outputs": [
        {
          "output_type": "stream",
          "name": "stdout",
          "text": [
            "Tensor1 shape:  torch.Size([3])\n",
            "Tensor2 shape:  torch.Size([3])\n",
            "\n",
            "Resulting tensor:  tensor(-0.4245)\n",
            "Resulting shape:  torch.Size([])\n"
          ]
        }
      ],
      "source": [
        "# Inner dimensions must match:\n",
        "\n",
        "tensor1 = torch.randn(3)\n",
        "tensor2 = torch.randn(3)\n",
        "\n",
        "print('Tensor1 shape: ', tensor1.shape)\n",
        "print('Tensor2 shape: ', tensor2.shape)\n",
        "print()\n",
        "print('Resulting tensor: ', torch.matmul(tensor1, tensor2))\n",
        "print('Resulting shape: ', torch.matmul(tensor1, tensor2).shape)"
      ]
    },
    {
      "cell_type": "code",
      "execution_count": 27,
      "id": "e4235789",
      "metadata": {
        "id": "e4235789",
        "colab": {
          "base_uri": "https://localhost:8080/"
        },
        "outputId": "c468009e-fa9e-44de-9e42-aabf4dee3adc"
      },
      "outputs": [
        {
          "output_type": "stream",
          "name": "stdout",
          "text": [
            "Resulting tensor:  tensor(-0.4245)\n"
          ]
        }
      ],
      "source": [
        "# Another way\n",
        "print('Resulting tensor: ', tensor1 @ tensor2)"
      ]
    },
    {
      "cell_type": "code",
      "execution_count": 28,
      "id": "323c6d18",
      "metadata": {
        "id": "323c6d18",
        "colab": {
          "base_uri": "https://localhost:8080/"
        },
        "outputId": "95b775cb-3632-4830-cc5b-3949889f4772"
      },
      "outputs": [
        {
          "output_type": "stream",
          "name": "stdout",
          "text": [
            "Tensor1 shape:  torch.Size([3, 3])\n",
            "Tensor2 shape:  torch.Size([3, 3])\n",
            "\n",
            "Resulting tensor:  tensor([[-0.5677,  0.5790, -0.1779],\n",
            "        [ 1.5793, -0.5869, -0.1894],\n",
            "        [-0.3714, -1.6159,  1.3086]])\n",
            "\n",
            "Resulting shape:  torch.Size([3, 3])\n"
          ]
        }
      ],
      "source": [
        "# Inner dimensions must match:\n",
        "\n",
        "tensor1 = torch.randn(3,3)\n",
        "tensor2 = torch.randn(3,3)\n",
        "\n",
        "print('Tensor1 shape: ', tensor1.shape)\n",
        "print('Tensor2 shape: ', tensor2.shape)\n",
        "print()\n",
        "print('Resulting tensor: ', torch.matmul(tensor1, tensor2))\n",
        "print()\n",
        "print('Resulting shape: ', torch.matmul(tensor1, tensor2).shape)"
      ]
    },
    {
      "cell_type": "code",
      "execution_count": 29,
      "id": "f1facd16",
      "metadata": {
        "id": "f1facd16",
        "colab": {
          "base_uri": "https://localhost:8080/"
        },
        "outputId": "c053754f-c1f6-49cd-89f8-abe910b87f03"
      },
      "outputs": [
        {
          "output_type": "stream",
          "name": "stdout",
          "text": [
            "Tensor1 shape:  torch.Size([2, 2, 2])\n",
            "Tensor2 shape:  torch.Size([2, 2, 2])\n",
            "\n",
            "Resulting tensor:  tensor([[[ 0.9982, -0.5291],\n",
            "         [ 1.2354, -0.7374]],\n",
            "\n",
            "        [[ 4.6505, -1.0295],\n",
            "         [ 2.3554, -2.4252]]])\n",
            "\n",
            "Resulting shape:  torch.Size([2, 2, 2])\n"
          ]
        }
      ],
      "source": [
        "# Inner dimensions must match:\n",
        "\n",
        "tensor1 = torch.randn(2,2,2)\n",
        "tensor2 = torch.randn(2,2,2)\n",
        "\n",
        "print('Tensor1 shape: ', tensor1.shape)\n",
        "print('Tensor2 shape: ', tensor2.shape)\n",
        "print()\n",
        "print('Resulting tensor: ', torch.matmul(tensor1, tensor2))\n",
        "print()\n",
        "print('Resulting shape: ', torch.matmul(tensor1, tensor2).shape)"
      ]
    },
    {
      "cell_type": "code",
      "execution_count": 30,
      "id": "1ad095cb",
      "metadata": {
        "id": "1ad095cb",
        "colab": {
          "base_uri": "https://localhost:8080/"
        },
        "outputId": "0767451c-66b1-4a02-efbd-d049da197c67"
      },
      "outputs": [
        {
          "output_type": "stream",
          "name": "stdout",
          "text": [
            "Tensor1 shape:  torch.Size([3])\n",
            "Tensor2 shape:  torch.Size([3])\n",
            "\n",
            "Resulting tensor:  tensor([ 1.4134, -1.0557, -0.0426])\n",
            "Resulting shape:  torch.Size([3])\n"
          ]
        }
      ],
      "source": [
        "# Also, element-wise multiplication:\n",
        "\n",
        "tensor1 = torch.randn(3)\n",
        "tensor2 = torch.randn(3)\n",
        "\n",
        "print('Tensor1 shape: ', tensor1.shape)\n",
        "print('Tensor2 shape: ', tensor2.shape)\n",
        "print()\n",
        "print('Resulting tensor: ', tensor1 * tensor2)\n",
        "print('Resulting shape: ', (tensor1 * tensor2).shape)"
      ]
    },
    {
      "cell_type": "code",
      "execution_count": 31,
      "id": "6f2366fe",
      "metadata": {
        "id": "6f2366fe",
        "colab": {
          "base_uri": "https://localhost:8080/"
        },
        "outputId": "43c950ee-d96c-40e4-ef75-a5f1ad651dd8"
      },
      "outputs": [
        {
          "output_type": "stream",
          "name": "stdout",
          "text": [
            "Tensor1 shape:  torch.Size([3, 2])\n",
            "Tensor2 shape:  torch.Size([2, 3])\n",
            "\n",
            "Resulting tensor:  tensor([[ 3.6869,  1.9689,  5.5447],\n",
            "        [-0.4775,  0.1570, -1.5350],\n",
            "        [ 0.0547,  0.1324, -0.1224]])\n",
            "\n",
            "Resulting shape:  torch.Size([3, 3])\n"
          ]
        }
      ],
      "source": [
        "# We can transpose tensors to match their dimensions\n",
        "\n",
        "tensor1 = torch.randn(3,2)\n",
        "tensor2 = torch.randn(3,2)\n",
        "\n",
        "tensor2 = torch.transpose(tensor2,0,1)\n",
        "\n",
        "print('Tensor1 shape: ', tensor1.shape)\n",
        "print('Tensor2 shape: ', tensor2.shape)\n",
        "print()\n",
        "print('Resulting tensor: ', torch.matmul(tensor1, tensor2))\n",
        "print()\n",
        "print('Resulting shape: ', torch.matmul(tensor1, tensor2).shape)"
      ]
    },
    {
      "cell_type": "code",
      "execution_count": 32,
      "id": "ea3fa486",
      "metadata": {
        "id": "ea3fa486",
        "colab": {
          "base_uri": "https://localhost:8080/"
        },
        "outputId": "94cb29c1-d25c-4511-c7f0-ff80dac274e9"
      },
      "outputs": [
        {
          "output_type": "stream",
          "name": "stdout",
          "text": [
            "Tensor1 shape:  torch.Size([3, 2])\n",
            "Tensor2 shape:  torch.Size([3, 2])\n",
            "\n",
            "Resulting tensor:  tensor([[ 2.3069,  2.3741, -1.7873],\n",
            "        [ 1.6559,  1.6928, -1.2878],\n",
            "        [-1.1366, -1.1877,  0.8727]])\n",
            "\n",
            "Resulting shape:  torch.Size([3, 3])\n"
          ]
        }
      ],
      "source": [
        "# Also\n",
        "\n",
        "\n",
        "tensor1 = torch.randn(3,2)\n",
        "tensor2 = torch.randn(3,2)\n",
        "\n",
        "print('Tensor1 shape: ', tensor1.shape)\n",
        "print('Tensor2 shape: ', tensor2.shape)\n",
        "print()\n",
        "print('Resulting tensor: ', torch.matmul(tensor1, tensor2.T))\n",
        "print()\n",
        "print('Resulting shape: ', torch.matmul(tensor1, tensor2.T).shape)"
      ]
    },
    {
      "cell_type": "code",
      "execution_count": 33,
      "id": "63a9460d",
      "metadata": {
        "id": "63a9460d",
        "colab": {
          "base_uri": "https://localhost:8080/"
        },
        "outputId": "c91d047d-1922-4fe8-dfb4-4007a2f2b214"
      },
      "outputs": [
        {
          "output_type": "stream",
          "name": "stdout",
          "text": [
            "Input shape: torch.Size([3, 2])\n",
            "\n",
            "Output:\n",
            "tensor([[ 0.1443, -0.9476,  0.0148, -0.9618,  1.7800,  0.4222],\n",
            "        [ 0.3119, -0.6343,  0.1035, -0.7217,  1.4477,  0.3776],\n",
            "        [ 0.8055,  0.6398,  0.4963,  0.3199, -0.0376,  0.0196]],\n",
            "       grad_fn=<AddmmBackward0>)\n",
            "\n",
            "Output shape: torch.Size([3, 6])\n"
          ]
        }
      ],
      "source": [
        "# Since the linear layer starts with a random weights matrix, let's make it reproducible (more on this later)\n",
        "torch.manual_seed(42)\n",
        "\n",
        "# This uses matrix multiplication\n",
        "linear = torch.nn.Linear(in_features=2, # in_features = matches inner dimension of input\n",
        "                         out_features=6) # out_features = describes outer value\n",
        "\n",
        "x = tensor1\n",
        "output = linear(x)\n",
        "\n",
        "print(f\"Input shape: {x.shape}\\n\")\n",
        "print(f\"Output:\\n{output}\\n\\nOutput shape: {output.shape}\")"
      ]
    },
    {
      "cell_type": "markdown",
      "id": "4bf58605",
      "metadata": {
        "id": "4bf58605"
      },
      "source": [
        "### Finding the min, max, mean, sum, etc (aggregation)"
      ]
    },
    {
      "cell_type": "code",
      "execution_count": 34,
      "id": "cf52e8fd",
      "metadata": {
        "id": "cf52e8fd",
        "colab": {
          "base_uri": "https://localhost:8080/"
        },
        "outputId": "c3e99d90-eb46-4217-90c1-93e492230bb0"
      },
      "outputs": [
        {
          "output_type": "stream",
          "name": "stdout",
          "text": [
            "tensor([ 0, 10, 20, 30, 40, 50, 60, 70, 80, 90])\n"
          ]
        }
      ],
      "source": [
        "# Create a tensor\n",
        "x = torch.arange(0, 100, 10)\n",
        "print(x)"
      ]
    },
    {
      "cell_type": "code",
      "execution_count": 35,
      "id": "28bde885",
      "metadata": {
        "id": "28bde885",
        "colab": {
          "base_uri": "https://localhost:8080/"
        },
        "outputId": "549ca6f5-5f6a-4f09-a42e-a1e6982f0d6e"
      },
      "outputs": [
        {
          "output_type": "stream",
          "name": "stdout",
          "text": [
            "Minimum: 0\n",
            "Maximum: 90\n",
            "Mean: 45.0\n",
            "Sum: 450\n"
          ]
        }
      ],
      "source": [
        "# let's perform some aggregation\n",
        "\n",
        "print(f\"Minimum: {x.min()}\")\n",
        "print(f\"Maximum: {x.max()}\")\n",
        "# print(f\"Mean: {x.mean()}\") # this will error\n",
        "print(f\"Mean: {x.type(torch.float32).mean()}\") # won't work without float datatype\n",
        "print(f\"Sum: {x.sum()}\")"
      ]
    },
    {
      "cell_type": "code",
      "execution_count": 36,
      "id": "f55bcd60",
      "metadata": {
        "id": "f55bcd60",
        "colab": {
          "base_uri": "https://localhost:8080/"
        },
        "outputId": "80c09715-9708-4574-a122-142db232e7c4"
      },
      "outputs": [
        {
          "output_type": "stream",
          "name": "stdout",
          "text": [
            "Tensor: tensor([10, 20, 30, 40, 50, 60, 70, 80, 90])\n",
            "Index where max value occurs: 8\n",
            "Index where min value occurs: 0\n"
          ]
        }
      ],
      "source": [
        "# Create a tensor\n",
        "tensor = torch.arange(10, 100, 10)\n",
        "print(f\"Tensor: {tensor}\")\n",
        "\n",
        "# Returns index of max and min values\n",
        "print(f\"Index where max value occurs: {tensor.argmax()}\")\n",
        "print(f\"Index where min value occurs: {tensor.argmin()}\")"
      ]
    },
    {
      "cell_type": "markdown",
      "id": "b59e5e80",
      "metadata": {
        "id": "b59e5e80"
      },
      "source": [
        "### Change tensor datatype"
      ]
    },
    {
      "cell_type": "code",
      "execution_count": 37,
      "id": "f222ae74",
      "metadata": {
        "id": "f222ae74",
        "colab": {
          "base_uri": "https://localhost:8080/"
        },
        "outputId": "123238d8-f622-43a1-f66b-afab642d5665"
      },
      "outputs": [
        {
          "output_type": "execute_result",
          "data": {
            "text/plain": [
              "torch.float32"
            ]
          },
          "metadata": {},
          "execution_count": 37
        }
      ],
      "source": [
        "# Create a tensor and check its datatype\n",
        "tensor = torch.arange(10., 100., 10.)\n",
        "tensor.dtype"
      ]
    },
    {
      "cell_type": "code",
      "execution_count": 38,
      "id": "902f6fef",
      "metadata": {
        "id": "902f6fef",
        "colab": {
          "base_uri": "https://localhost:8080/"
        },
        "outputId": "c7f7ba74-de46-4b41-b57f-49a52b26eefd"
      },
      "outputs": [
        {
          "output_type": "execute_result",
          "data": {
            "text/plain": [
              "tensor([10., 20., 30., 40., 50., 60., 70., 80., 90.], dtype=torch.float16)"
            ]
          },
          "metadata": {},
          "execution_count": 38
        }
      ],
      "source": [
        "# Create a float16 tensor\n",
        "tensor_float16 = tensor.type(torch.float16)\n",
        "tensor_float16"
      ]
    },
    {
      "cell_type": "code",
      "execution_count": 39,
      "id": "e99d32ed",
      "metadata": {
        "id": "e99d32ed",
        "colab": {
          "base_uri": "https://localhost:8080/"
        },
        "outputId": "aeb52fd3-cc7d-4bdc-915f-6e6a9e2fb981"
      },
      "outputs": [
        {
          "output_type": "execute_result",
          "data": {
            "text/plain": [
              "tensor([10., 20., 30., 40., 50., 60., 70., 80., 90.])"
            ]
          },
          "metadata": {},
          "execution_count": 39
        }
      ],
      "source": [
        "# Change tensor type:\n",
        "tensor_float16.type(dtype=torch.float32)"
      ]
    },
    {
      "cell_type": "code",
      "execution_count": 40,
      "id": "08f12697",
      "metadata": {
        "id": "08f12697",
        "colab": {
          "base_uri": "https://localhost:8080/"
        },
        "outputId": "37008565-22ec-4b64-ee24-7d08d9466356"
      },
      "outputs": [
        {
          "output_type": "execute_result",
          "data": {
            "text/plain": [
              "tensor([10, 20, 30, 40, 50, 60, 70, 80, 90], dtype=torch.int8)"
            ]
          },
          "metadata": {},
          "execution_count": 40
        }
      ],
      "source": [
        "# Create a int8 tensor\n",
        "tensor_int8 = tensor.type(torch.int8)\n",
        "tensor_int8"
      ]
    },
    {
      "cell_type": "code",
      "execution_count": 41,
      "id": "b5bdc78c",
      "metadata": {
        "id": "b5bdc78c",
        "colab": {
          "base_uri": "https://localhost:8080/"
        },
        "outputId": "94dd971b-870f-4538-fca1-152bbfaa47d1"
      },
      "outputs": [
        {
          "output_type": "execute_result",
          "data": {
            "text/plain": [
              "tensor([10., 20., 30., 40., 50., 60., 70., 80., 90.])"
            ]
          },
          "metadata": {},
          "execution_count": 41
        }
      ],
      "source": [
        "# Change tensor type:\n",
        "tensor_int8.type(dtype=torch.float32)"
      ]
    },
    {
      "cell_type": "markdown",
      "id": "c9ee6f7d",
      "metadata": {
        "id": "c9ee6f7d"
      },
      "source": [
        "### Reshaping, stacking, squeezing and unsqueezing"
      ]
    },
    {
      "cell_type": "code",
      "execution_count": 42,
      "id": "1a43cf43",
      "metadata": {
        "id": "1a43cf43",
        "colab": {
          "base_uri": "https://localhost:8080/"
        },
        "outputId": "cb055b32-8d4c-4c86-e2c4-4c36a9c8ad0d"
      },
      "outputs": [
        {
          "output_type": "execute_result",
          "data": {
            "text/plain": [
              "(tensor([1., 2., 3., 4., 5., 6., 7.]), torch.Size([7]))"
            ]
          },
          "metadata": {},
          "execution_count": 42
        }
      ],
      "source": [
        "# Create a tensor\n",
        "x = torch.arange(1., 8.)\n",
        "x, x.shape"
      ]
    },
    {
      "cell_type": "code",
      "execution_count": 43,
      "id": "00b40587",
      "metadata": {
        "id": "00b40587",
        "colab": {
          "base_uri": "https://localhost:8080/"
        },
        "outputId": "d7b370af-5c17-4c26-8cb5-8dbdb7411714"
      },
      "outputs": [
        {
          "output_type": "execute_result",
          "data": {
            "text/plain": [
              "(tensor([[1., 2., 3., 4., 5., 6., 7.]]), torch.Size([1, 7]))"
            ]
          },
          "metadata": {},
          "execution_count": 43
        }
      ],
      "source": [
        "# Add an extra dimension\n",
        "x_reshaped = x.reshape(1, 7)\n",
        "x_reshaped, x_reshaped.shape"
      ]
    },
    {
      "cell_type": "code",
      "execution_count": 44,
      "id": "03579e05",
      "metadata": {
        "id": "03579e05",
        "colab": {
          "base_uri": "https://localhost:8080/"
        },
        "outputId": "359128ff-c889-40fb-b6d4-ba14e57fdb13"
      },
      "outputs": [
        {
          "output_type": "execute_result",
          "data": {
            "text/plain": [
              "(tensor([[1., 2., 3., 4., 5., 6., 7.]]), torch.Size([1, 7]))"
            ]
          },
          "metadata": {},
          "execution_count": 44
        }
      ],
      "source": [
        "# Change view (keeps same data as original but changes view)\n",
        "z = x.view(1, 7)\n",
        "z, z.shape"
      ]
    },
    {
      "cell_type": "code",
      "execution_count": 45,
      "id": "980a8a44",
      "metadata": {
        "id": "980a8a44",
        "colab": {
          "base_uri": "https://localhost:8080/"
        },
        "outputId": "69ab2555-459c-4d6a-8f92-3391091bb0fd"
      },
      "outputs": [
        {
          "output_type": "execute_result",
          "data": {
            "text/plain": [
              "(tensor([[5., 2., 3., 4., 5., 6., 7.]]), tensor([5., 2., 3., 4., 5., 6., 7.]))"
            ]
          },
          "metadata": {},
          "execution_count": 45
        }
      ],
      "source": [
        "# Changing z changes x\n",
        "z[:, 0] = 5\n",
        "z, x"
      ]
    },
    {
      "cell_type": "code",
      "execution_count": 46,
      "id": "b8a43bd8",
      "metadata": {
        "id": "b8a43bd8",
        "colab": {
          "base_uri": "https://localhost:8080/"
        },
        "outputId": "aee4440f-b999-49b9-d3ac-4612f853791a"
      },
      "outputs": [
        {
          "output_type": "execute_result",
          "data": {
            "text/plain": [
              "tensor([[5., 2., 3., 4., 5., 6., 7.],\n",
              "        [5., 2., 3., 4., 5., 6., 7.],\n",
              "        [5., 2., 3., 4., 5., 6., 7.],\n",
              "        [5., 2., 3., 4., 5., 6., 7.]])"
            ]
          },
          "metadata": {},
          "execution_count": 46
        }
      ],
      "source": [
        "# Stack tensors on top of each other\n",
        "x_stacked = torch.stack([x, x, x, x], dim=0) # try changing dim to dim=1 and see what happens\n",
        "x_stacked"
      ]
    },
    {
      "cell_type": "code",
      "execution_count": 47,
      "id": "e000f57c",
      "metadata": {
        "id": "e000f57c",
        "colab": {
          "base_uri": "https://localhost:8080/"
        },
        "outputId": "7fbef41d-7a2b-4c82-8d45-69d538990c38"
      },
      "outputs": [
        {
          "output_type": "stream",
          "name": "stdout",
          "text": [
            "Previous tensor: tensor([[5., 2., 3., 4., 5., 6., 7.]])\n",
            "Previous shape: torch.Size([1, 7])\n",
            "\n",
            "New tensor: tensor([5., 2., 3., 4., 5., 6., 7.])\n",
            "New shape: torch.Size([7])\n"
          ]
        }
      ],
      "source": [
        "print(f\"Previous tensor: {x_reshaped}\")\n",
        "print(f\"Previous shape: {x_reshaped.shape}\")\n",
        "\n",
        "# Remove extra dimension from x_reshaped\n",
        "x_squeezed = x_reshaped.squeeze()\n",
        "print(f\"\\nNew tensor: {x_squeezed}\")\n",
        "print(f\"New shape: {x_squeezed.shape}\")"
      ]
    },
    {
      "cell_type": "code",
      "execution_count": 48,
      "id": "cbec9df3",
      "metadata": {
        "id": "cbec9df3",
        "colab": {
          "base_uri": "https://localhost:8080/"
        },
        "outputId": "e34da417-ab04-4c64-9729-b4045b60e4b6"
      },
      "outputs": [
        {
          "output_type": "stream",
          "name": "stdout",
          "text": [
            "Previous tensor: tensor([5., 2., 3., 4., 5., 6., 7.])\n",
            "Previous shape: torch.Size([7])\n",
            "\n",
            "New tensor: tensor([[5., 2., 3., 4., 5., 6., 7.]])\n",
            "New shape: torch.Size([1, 7])\n"
          ]
        }
      ],
      "source": [
        "print(f\"Previous tensor: {x_squeezed}\")\n",
        "print(f\"Previous shape: {x_squeezed.shape}\")\n",
        "\n",
        "## Add an extra dimension with unsqueeze\n",
        "x_unsqueezed = x_squeezed.unsqueeze(dim=0)\n",
        "print(f\"\\nNew tensor: {x_unsqueezed}\")\n",
        "print(f\"New shape: {x_unsqueezed.shape}\")"
      ]
    },
    {
      "cell_type": "code",
      "execution_count": 49,
      "id": "bfa62b88",
      "metadata": {
        "id": "bfa62b88",
        "colab": {
          "base_uri": "https://localhost:8080/"
        },
        "outputId": "d8d2a28c-ac4e-40b8-da55-ba0e44c3cc48"
      },
      "outputs": [
        {
          "output_type": "stream",
          "name": "stdout",
          "text": [
            "Previous shape: torch.Size([224, 224, 3])\n",
            "New shape: torch.Size([3, 224, 224])\n"
          ]
        }
      ],
      "source": [
        "# Create tensor with specific shape\n",
        "x_original = torch.rand(size=(224, 224, 3))\n",
        "\n",
        "# Permute the original tensor to rearrange the axis order\n",
        "x_permuted = x_original.permute(2, 0, 1) # shifts axis 0->1, 1->2, 2->0\n",
        "\n",
        "print(f\"Previous shape: {x_original.shape}\")\n",
        "print(f\"New shape: {x_permuted.shape}\")"
      ]
    },
    {
      "cell_type": "markdown",
      "id": "458c70e2-b409-4ea1-88c6-36cdcb13a5ce",
      "metadata": {
        "id": "458c70e2-b409-4ea1-88c6-36cdcb13a5ce"
      },
      "source": [
        "### Indexing\n",
        "Select specific data from tensors"
      ]
    },
    {
      "cell_type": "code",
      "execution_count": 50,
      "id": "dc3da739-0a98-4c6b-b693-047ed12fe825",
      "metadata": {
        "id": "dc3da739-0a98-4c6b-b693-047ed12fe825",
        "colab": {
          "base_uri": "https://localhost:8080/"
        },
        "outputId": "0ec96ef6-7c14-4986-f423-e0a7ea5828e3"
      },
      "outputs": [
        {
          "output_type": "execute_result",
          "data": {
            "text/plain": [
              "(tensor([[[1, 2, 3],\n",
              "          [4, 5, 6],\n",
              "          [7, 8, 9]]]),\n",
              " torch.Size([1, 3, 3]))"
            ]
          },
          "metadata": {},
          "execution_count": 50
        }
      ],
      "source": [
        "# Create a tensor\n",
        "x = torch.arange(1, 10).reshape(1, 3, 3)\n",
        "x, x.shape"
      ]
    },
    {
      "cell_type": "code",
      "execution_count": 51,
      "id": "083b1b3f-45d4-4ffc-94de-c339203badf2",
      "metadata": {
        "id": "083b1b3f-45d4-4ffc-94de-c339203badf2",
        "colab": {
          "base_uri": "https://localhost:8080/"
        },
        "outputId": "10d036b2-0014-4791-b0ff-22f300c02420"
      },
      "outputs": [
        {
          "output_type": "stream",
          "name": "stdout",
          "text": [
            "First square bracket:\n",
            "tensor([[1, 2, 3],\n",
            "        [4, 5, 6],\n",
            "        [7, 8, 9]])\n",
            "Second square bracket: tensor([1, 2, 3])\n",
            "Third square bracket: 1\n"
          ]
        }
      ],
      "source": [
        "# Let's index bracket by bracket\n",
        "print(f\"First square bracket:\\n{x[0]}\")\n",
        "print(f\"Second square bracket: {x[0][0]}\")\n",
        "print(f\"Third square bracket: {x[0][0][0]}\")"
      ]
    },
    {
      "cell_type": "code",
      "execution_count": 52,
      "id": "328c6fc6-c409-4f29-84dc-4cf09c3b9c70",
      "metadata": {
        "id": "328c6fc6-c409-4f29-84dc-4cf09c3b9c70",
        "colab": {
          "base_uri": "https://localhost:8080/"
        },
        "outputId": "4f09417f-e784-41dd-c832-ae931b67cc06"
      },
      "outputs": [
        {
          "output_type": "execute_result",
          "data": {
            "text/plain": [
              "tensor([[1, 2, 3]])"
            ]
          },
          "metadata": {},
          "execution_count": 52
        }
      ],
      "source": [
        "# Get all values of 0th dimension and the 0 index of 1st dimension\n",
        "x[:, 0]"
      ]
    },
    {
      "cell_type": "markdown",
      "id": "22e02df1-bbed-48f3-86e7-aebd3c8261aa",
      "metadata": {
        "id": "22e02df1-bbed-48f3-86e7-aebd3c8261aa"
      },
      "source": [
        "# PyTorch tensors & NumPy"
      ]
    },
    {
      "cell_type": "code",
      "execution_count": 53,
      "id": "652cbb10-c21e-4635-a7ef-6e4d78dd8f85",
      "metadata": {
        "id": "652cbb10-c21e-4635-a7ef-6e4d78dd8f85",
        "colab": {
          "base_uri": "https://localhost:8080/"
        },
        "outputId": "df90e8f5-aa20-4808-e00c-16bf8c199b5c"
      },
      "outputs": [
        {
          "output_type": "execute_result",
          "data": {
            "text/plain": [
              "(array([1., 2., 3., 4., 5., 6., 7.]),\n",
              " tensor([1., 2., 3., 4., 5., 6., 7.], dtype=torch.float64))"
            ]
          },
          "metadata": {},
          "execution_count": 53
        }
      ],
      "source": [
        "# NumPy array to tensor\n",
        "import numpy as np\n",
        "array = np.arange(1.0, 8.0)\n",
        "tensor = torch.from_numpy(array)\n",
        "array, tensor"
      ]
    },
    {
      "cell_type": "code",
      "execution_count": 54,
      "id": "bc8d1f7b-bc96-4179-a8e5-606ec481c7fe",
      "metadata": {
        "id": "bc8d1f7b-bc96-4179-a8e5-606ec481c7fe",
        "colab": {
          "base_uri": "https://localhost:8080/"
        },
        "outputId": "edcf11b9-30f9-415a-916b-532ca97f5348"
      },
      "outputs": [
        {
          "output_type": "execute_result",
          "data": {
            "text/plain": [
              "(array([2., 3., 4., 5., 6., 7., 8.]),\n",
              " tensor([1., 2., 3., 4., 5., 6., 7.], dtype=torch.float64))"
            ]
          },
          "metadata": {},
          "execution_count": 54
        }
      ],
      "source": [
        "# Change the array, keep the tensor\n",
        "array = array + 1\n",
        "array, tensor"
      ]
    },
    {
      "cell_type": "code",
      "execution_count": 55,
      "id": "02274d54-0e4b-491c-9d33-b58512ba1ed6",
      "metadata": {
        "id": "02274d54-0e4b-491c-9d33-b58512ba1ed6",
        "colab": {
          "base_uri": "https://localhost:8080/"
        },
        "outputId": "99fb243f-b508-47fa-c360-c53bb8b9df1c"
      },
      "outputs": [
        {
          "output_type": "execute_result",
          "data": {
            "text/plain": [
              "(tensor([1., 1., 1., 1., 1., 1., 1.]),\n",
              " array([1., 1., 1., 1., 1., 1., 1.], dtype=float32))"
            ]
          },
          "metadata": {},
          "execution_count": 55
        }
      ],
      "source": [
        "# Tensor to NumPy array\n",
        "tensor = torch.ones(7) # create a tensor of ones with dtype=float32\n",
        "numpy_tensor = tensor.numpy() # will be dtype=float32 unless changed\n",
        "tensor, numpy_tensor"
      ]
    },
    {
      "cell_type": "markdown",
      "id": "20bf4afc-ae81-4b09-9d8b-a139bbe55531",
      "metadata": {
        "id": "20bf4afc-ae81-4b09-9d8b-a139bbe55531"
      },
      "source": [
        "# Reproducibility"
      ]
    },
    {
      "cell_type": "code",
      "execution_count": 56,
      "id": "0e58c2eb-6779-4bfd-9cc3-5fda8ee1136d",
      "metadata": {
        "id": "0e58c2eb-6779-4bfd-9cc3-5fda8ee1136d",
        "colab": {
          "base_uri": "https://localhost:8080/"
        },
        "outputId": "09b47e80-3379-4d32-f2ce-8bc143ce66de"
      },
      "outputs": [
        {
          "output_type": "stream",
          "name": "stdout",
          "text": [
            "Tensor A:\n",
            "tensor([[0.8016, 0.3649, 0.6286, 0.9663],\n",
            "        [0.7687, 0.4566, 0.5745, 0.9200],\n",
            "        [0.3230, 0.8613, 0.0919, 0.3102]])\n",
            "\n",
            "Tensor B:\n",
            "tensor([[0.9536, 0.6002, 0.0351, 0.6826],\n",
            "        [0.3743, 0.5220, 0.1336, 0.9666],\n",
            "        [0.9754, 0.8474, 0.8988, 0.1105]])\n",
            "\n",
            "Does Tensor A equal Tensor B? (anywhere)\n"
          ]
        },
        {
          "output_type": "execute_result",
          "data": {
            "text/plain": [
              "tensor([[False, False, False, False],\n",
              "        [False, False, False, False],\n",
              "        [False, False, False, False]])"
            ]
          },
          "metadata": {},
          "execution_count": 56
        }
      ],
      "source": [
        "# Create two random tensors\n",
        "random_tensor_A = torch.rand(3, 4)\n",
        "random_tensor_B = torch.rand(3, 4)\n",
        "\n",
        "print(f\"Tensor A:\\n{random_tensor_A}\\n\")\n",
        "print(f\"Tensor B:\\n{random_tensor_B}\\n\")\n",
        "\n",
        "print(f\"Does Tensor A equal Tensor B? (anywhere)\")\n",
        "random_tensor_A == random_tensor_B"
      ]
    },
    {
      "cell_type": "code",
      "execution_count": 57,
      "id": "b8cf74f8-aa18-43af-a69c-e2fa3e77305d",
      "metadata": {
        "id": "b8cf74f8-aa18-43af-a69c-e2fa3e77305d",
        "colab": {
          "base_uri": "https://localhost:8080/"
        },
        "outputId": "cf257909-15e3-4054-b150-66d9e6f960e7"
      },
      "outputs": [
        {
          "output_type": "stream",
          "name": "stdout",
          "text": [
            "Tensor C:\n",
            "tensor([[0.8823, 0.9150, 0.3829, 0.9593],\n",
            "        [0.3904, 0.6009, 0.2566, 0.7936],\n",
            "        [0.9408, 0.1332, 0.9346, 0.5936]])\n",
            "\n",
            "Tensor D:\n",
            "tensor([[0.8823, 0.9150, 0.3829, 0.9593],\n",
            "        [0.3904, 0.6009, 0.2566, 0.7936],\n",
            "        [0.9408, 0.1332, 0.9346, 0.5936]])\n",
            "\n",
            "Does Tensor C equal Tensor D? (anywhere)\n"
          ]
        },
        {
          "output_type": "execute_result",
          "data": {
            "text/plain": [
              "tensor([[True, True, True, True],\n",
              "        [True, True, True, True],\n",
              "        [True, True, True, True]])"
            ]
          },
          "metadata": {},
          "execution_count": 57
        }
      ],
      "source": [
        "# # Set the random seed\n",
        "RANDOM_SEED=42\n",
        "\n",
        "torch.manual_seed(seed=RANDOM_SEED)\n",
        "random_tensor_C = torch.rand(3, 4)\n",
        "\n",
        "# Have to reset the seed every time a new rand() is called\n",
        "torch.random.manual_seed(seed=RANDOM_SEED)\n",
        "random_tensor_D = torch.rand(3, 4)\n",
        "\n",
        "print(f\"Tensor C:\\n{random_tensor_C}\\n\")\n",
        "print(f\"Tensor D:\\n{random_tensor_D}\\n\")\n",
        "\n",
        "print(f\"Does Tensor C equal Tensor D? (anywhere)\")\n",
        "random_tensor_C == random_tensor_D"
      ]
    },
    {
      "cell_type": "markdown",
      "id": "2240938c-e98d-463b-88d3-a26a47078080",
      "metadata": {
        "id": "2240938c-e98d-463b-88d3-a26a47078080"
      },
      "source": [
        "# Running tensors on GPUs"
      ]
    },
    {
      "cell_type": "code",
      "execution_count": 58,
      "id": "3f6a74c6-cff5-412b-ad77-8a94668c827c",
      "metadata": {
        "colab": {
          "base_uri": "https://localhost:8080/"
        },
        "id": "3f6a74c6-cff5-412b-ad77-8a94668c827c",
        "outputId": "47aa535a-6f67-487c-ef05-bc012c9beaa8"
      },
      "outputs": [
        {
          "output_type": "execute_result",
          "data": {
            "text/plain": [
              "True"
            ]
          },
          "metadata": {},
          "execution_count": 58
        }
      ],
      "source": [
        "# Check for GPU Running Locally\n",
        "import torch\n",
        "torch.cuda.is_available()"
      ]
    },
    {
      "cell_type": "code",
      "execution_count": 59,
      "id": "4f89accf-24c1-4e01-854f-cff30b3905f8",
      "metadata": {
        "id": "4f89accf-24c1-4e01-854f-cff30b3905f8",
        "outputId": "bc2847da-2405-4ee4-f822-fc77dc702223",
        "colab": {
          "base_uri": "https://localhost:8080/"
        }
      },
      "outputs": [
        {
          "output_type": "execute_result",
          "data": {
            "text/plain": [
              "1"
            ]
          },
          "metadata": {},
          "execution_count": 59
        }
      ],
      "source": [
        "# Count number of devices\n",
        "torch.cuda.device_count()"
      ]
    },
    {
      "cell_type": "code",
      "execution_count": 60,
      "id": "13b701a0-2c44-405f-a927-51e645291751",
      "metadata": {
        "id": "13b701a0-2c44-405f-a927-51e645291751",
        "outputId": "fcc1b600-3fb4-4fe8-e730-6afc842c9fb8",
        "colab": {
          "base_uri": "https://localhost:8080/",
          "height": 35
        }
      },
      "outputs": [
        {
          "output_type": "execute_result",
          "data": {
            "text/plain": [
              "'cuda'"
            ],
            "application/vnd.google.colaboratory.intrinsic+json": {
              "type": "string"
            }
          },
          "metadata": {},
          "execution_count": 60
        }
      ],
      "source": [
        "# Set device type\n",
        "device = \"cuda\" if torch.cuda.is_available() else \"cpu\"\n",
        "device"
      ]
    },
    {
      "cell_type": "code",
      "execution_count": 61,
      "id": "d5e50436-1870-4495-b1b7-b0fc435b8a7c",
      "metadata": {
        "id": "d5e50436-1870-4495-b1b7-b0fc435b8a7c",
        "outputId": "0b1807e3-4786-40f0-e044-8d5d5bfa9b64",
        "colab": {
          "base_uri": "https://localhost:8080/"
        }
      },
      "outputs": [
        {
          "output_type": "stream",
          "name": "stdout",
          "text": [
            "tensor([1, 2, 3]) cpu\n"
          ]
        },
        {
          "output_type": "execute_result",
          "data": {
            "text/plain": [
              "tensor([1, 2, 3], device='cuda:0')"
            ]
          },
          "metadata": {},
          "execution_count": 61
        }
      ],
      "source": [
        "# Create tensor (default on CPU)\n",
        "tensor = torch.tensor([1, 2, 3])\n",
        "\n",
        "# Tensor not on GPU\n",
        "print(tensor, tensor.device)\n",
        "\n",
        "# Move tensor to GPU (if available)\n",
        "tensor_on_gpu = tensor.to(device)\n",
        "tensor_on_gpu"
      ]
    },
    {
      "cell_type": "code",
      "execution_count": 62,
      "id": "0e3fe168-cbf2-43a9-b9f1-60bb98af417a",
      "metadata": {
        "id": "0e3fe168-cbf2-43a9-b9f1-60bb98af417a",
        "colab": {
          "base_uri": "https://localhost:8080/"
        },
        "outputId": "56368d34-14e7-4019-a963-bf2ad40b63a6"
      },
      "outputs": [
        {
          "output_type": "execute_result",
          "data": {
            "text/plain": [
              "array([1, 2, 3])"
            ]
          },
          "metadata": {},
          "execution_count": 62
        }
      ],
      "source": [
        "# Copy the tensor back to cpu\n",
        "tensor_back_on_cpu = tensor_on_gpu.cpu().numpy()\n",
        "tensor_back_on_cpu"
      ]
    }
  ],
  "metadata": {
    "kernelspec": {
      "display_name": "Python 3",
      "name": "python3"
    },
    "language_info": {
      "codemirror_mode": {
        "name": "ipython",
        "version": 3
      },
      "file_extension": ".py",
      "mimetype": "text/x-python",
      "name": "python",
      "nbconvert_exporter": "python",
      "pygments_lexer": "ipython3",
      "version": "3.12.5"
    },
    "colab": {
      "provenance": [],
      "gpuType": "T4"
    },
    "accelerator": "GPU"
  },
  "nbformat": 4,
  "nbformat_minor": 5
}
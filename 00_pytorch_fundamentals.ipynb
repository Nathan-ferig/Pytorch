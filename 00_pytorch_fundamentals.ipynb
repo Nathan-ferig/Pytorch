{
 "cells": [
  {
   "cell_type": "code",
   "execution_count": 2,
   "id": "3aeb6ac2",
   "metadata": {},
   "outputs": [
    {
     "name": "stdout",
     "output_type": "stream",
     "text": [
      "# Inner dimensions must match:\n",
      "\n",
      "print((2, 3) @ (3, 2))\n",
      "print((3, 2) @ (2, 3))\n",
      "'''Retrieve all inputs executed in the current kernel section'''\n",
      "%history\n"
     ]
    }
   ],
   "source": [
    "'''Retrieve all inputs executed in the current kernel section'''\n",
    "%history"
   ]
  },
  {
   "cell_type": "markdown",
   "id": "ddc793fc",
   "metadata": {},
   "source": [
    "### Starting notebook"
   ]
  },
  {
   "cell_type": "code",
   "execution_count": 1,
   "id": "7c5e7f2b",
   "metadata": {},
   "outputs": [],
   "source": [
    "import torch\n",
    "\n",
    "import pandas as pd\n",
    "import numpy as np\n",
    "import matplotlib.pyplot as plt\n",
    "\n",
    "import warnings"
   ]
  },
  {
   "cell_type": "code",
   "execution_count": 2,
   "id": "4870fe39",
   "metadata": {},
   "outputs": [
    {
     "name": "stdout",
     "output_type": "stream",
     "text": [
      "Pytorch version:  2.3.1+cpu\n",
      "Pandas version:  2.2.2\n",
      "Numpy version:  2.1.0\n"
     ]
    }
   ],
   "source": [
    "print('Pytorch version: ', torch.__version__)\n",
    "print('Pandas version: ', pd.__version__)\n",
    "print('Numpy version: ', np.__version__)"
   ]
  },
  {
   "cell_type": "markdown",
   "id": "66a719c0",
   "metadata": {},
   "source": [
    "### Tensors"
   ]
  },
  {
   "cell_type": "code",
   "execution_count": 5,
   "id": "c9a1aaf2",
   "metadata": {},
   "outputs": [
    {
     "name": "stdout",
     "output_type": "stream",
     "text": [
      "Número de dimensões:  0\n",
      "Shape:  torch.Size([])\n",
      "\n",
      "tensor(7)\n"
     ]
    }
   ],
   "source": [
    "# Scalar\n",
    "scalar = torch.tensor(7)\n",
    "print('Número de dimensões: ', scalar.ndim)\n",
    "print('Shape: ', scalar.shape)\n",
    "print('')\n",
    "print(scalar)"
   ]
  },
  {
   "cell_type": "code",
   "execution_count": 6,
   "id": "b9b2cccf",
   "metadata": {},
   "outputs": [
    {
     "name": "stdout",
     "output_type": "stream",
     "text": [
      "Número de dimensões:  1\n",
      "Shape:  torch.Size([2])\n",
      "\n",
      "tensor([7, 7])\n"
     ]
    }
   ],
   "source": [
    "# Vector\n",
    "vector = torch.tensor([7, 7])\n",
    "print('Número de dimensões: ', vector.ndim)\n",
    "print('Shape: ', vector.shape)\n",
    "print('')\n",
    "print(vector)"
   ]
  },
  {
   "cell_type": "code",
   "execution_count": 7,
   "id": "e4a00d20",
   "metadata": {},
   "outputs": [
    {
     "name": "stdout",
     "output_type": "stream",
     "text": [
      "Número de dimensões:  2\n",
      "Shape:  torch.Size([2, 2])\n",
      "\n",
      "tensor([[ 7,  8],\n",
      "        [ 9, 10]])\n"
     ]
    }
   ],
   "source": [
    "# MATRIX\n",
    "MATRIX = torch.tensor([[7, 8],\n",
    "                       [9, 10]])\n",
    "print('Número de dimensões: ', MATRIX.ndim)\n",
    "print('Shape: ', MATRIX.shape)\n",
    "print('')\n",
    "print(MATRIX)"
   ]
  },
  {
   "cell_type": "code",
   "execution_count": 8,
   "id": "18d7daf6",
   "metadata": {},
   "outputs": [
    {
     "name": "stdout",
     "output_type": "stream",
     "text": [
      "Número de dimensões:  3\n",
      "Shape:  torch.Size([1, 3, 3])\n",
      "\n",
      "tensor([[[1, 2, 3],\n",
      "         [3, 6, 9],\n",
      "         [2, 4, 5]]])\n"
     ]
    }
   ],
   "source": [
    "# TENSOR\n",
    "TENSOR = torch.tensor([[[1, 2, 3],\n",
    "                        [3, 6, 9],\n",
    "                        [2, 4, 5]]])\n",
    "print('Número de dimensões: ', TENSOR.ndim)\n",
    "print('Shape: ', TENSOR.shape)\n",
    "print('')\n",
    "print(TENSOR)"
   ]
  },
  {
   "cell_type": "markdown",
   "id": "73536994",
   "metadata": {},
   "source": [
    "### Random tensors"
   ]
  },
  {
   "cell_type": "code",
   "execution_count": 9,
   "id": "19bed60e",
   "metadata": {},
   "outputs": [
    {
     "name": "stdout",
     "output_type": "stream",
     "text": [
      "Número de dimensões:  1\n",
      "tensor([0.1513, 0.6563])\n",
      "\n",
      "Número de dimensões:  2\n",
      "tensor([[0.2659, 0.9191],\n",
      "        [0.2692, 0.1717]])\n",
      "\n",
      "Número de dimensões:  3\n",
      "tensor([[[0.9919, 0.5125],\n",
      "         [0.3751, 0.5561]],\n",
      "\n",
      "        [[0.0355, 0.4951],\n",
      "         [0.1802, 0.8330]]])\n"
     ]
    }
   ],
   "source": [
    "#Also random tensors\n",
    "\n",
    "rand = torch.rand(2)\n",
    "print('Número de dimensões: ', rand.ndim)\n",
    "print(rand)\n",
    "\n",
    "print('')\n",
    "\n",
    "rand = torch.rand(2,2)\n",
    "print('Número de dimensões: ', rand.ndim)\n",
    "print(rand)\n",
    "\n",
    "print('')\n",
    "\n",
    "rand = torch.rand(2,2,2)\n",
    "print('Número de dimensões: ', rand.ndim)\n",
    "print(rand)"
   ]
  },
  {
   "cell_type": "code",
   "execution_count": 10,
   "id": "3fe9ea0f",
   "metadata": {},
   "outputs": [
    {
     "name": "stdout",
     "output_type": "stream",
     "text": [
      "Número de dimensões:  3\n",
      "Shape:  torch.Size([3, 224, 224])\n",
      "\n"
     ]
    }
   ],
   "source": [
    "# Create a random tensor with similar shape to an image tensor\n",
    "\n",
    "random_image_size_tensor = torch.rand(size=(3, 224, 224)) # height, width, colour channels (R, G, B)\n",
    "\n",
    "print('Número de dimensões: ', random_image_size_tensor.ndim)\n",
    "print('Shape: ', random_image_size_tensor.shape)\n",
    "print('')\n",
    "#print(random_image_size_tensor)"
   ]
  },
  {
   "cell_type": "markdown",
   "id": "b57b5757",
   "metadata": {},
   "source": [
    "### Zeros, ones and range"
   ]
  },
  {
   "cell_type": "code",
   "execution_count": 11,
   "id": "d12dda03",
   "metadata": {},
   "outputs": [
    {
     "name": "stdout",
     "output_type": "stream",
     "text": [
      "Número de dimensões:  2\n",
      "Shape:  torch.Size([3, 4])\n",
      "\n",
      "tensor([[0., 0., 0., 0.],\n",
      "        [0., 0., 0., 0.],\n",
      "        [0., 0., 0., 0.]])\n"
     ]
    }
   ],
   "source": [
    "# Create a tensor of all zeros\n",
    "zeros = torch.zeros(size=(3, 4))\n",
    "print('Número de dimensões: ', zeros.ndim)\n",
    "print('Shape: ', zeros.shape)\n",
    "print('')\n",
    "print(zeros)"
   ]
  },
  {
   "cell_type": "code",
   "execution_count": 12,
   "id": "64dce70b",
   "metadata": {},
   "outputs": [
    {
     "name": "stdout",
     "output_type": "stream",
     "text": [
      "Número de dimensões:  2\n",
      "Shape:  torch.Size([3, 4])\n",
      "\n",
      "tensor([[1., 1., 1., 1.],\n",
      "        [1., 1., 1., 1.],\n",
      "        [1., 1., 1., 1.]])\n"
     ]
    }
   ],
   "source": [
    "# Create a tensor of all ones\n",
    "ones = torch.ones(size=(3, 4))\n",
    "print('Número de dimensões: ', ones.ndim)\n",
    "print('Shape: ', ones.shape)\n",
    "print('')\n",
    "print(ones)  "
   ]
  },
  {
   "cell_type": "code",
   "execution_count": 13,
   "id": "ae624b3d",
   "metadata": {},
   "outputs": [
    {
     "name": "stdout",
     "output_type": "stream",
     "text": [
      "Número de dimensões:  1\n",
      "Shape:  torch.Size([10])\n",
      "\n",
      "tensor([ 1,  2,  3,  4,  5,  6,  7,  8,  9, 10])\n"
     ]
    }
   ],
   "source": [
    "# Create a tensor with a range\n",
    "one_to_ten = torch.arange(start=1, end=11, step=1)\n",
    "print('Número de dimensões: ', one_to_ten.ndim)\n",
    "print('Shape: ', one_to_ten.shape)\n",
    "print('')\n",
    "print(one_to_ten)   "
   ]
  },
  {
   "cell_type": "code",
   "execution_count": 14,
   "id": "5e0c9346",
   "metadata": {},
   "outputs": [
    {
     "name": "stdout",
     "output_type": "stream",
     "text": [
      "Número de dimensões:  1\n",
      "Shape:  torch.Size([10])\n",
      "\n",
      "tensor([0, 0, 0, 0, 0, 0, 0, 0, 0, 0])\n"
     ]
    }
   ],
   "source": [
    "# Creating tensors like\n",
    "ten_zeros = torch.zeros_like(input=one_to_ten)\n",
    "print('Número de dimensões: ', ten_zeros.ndim)\n",
    "print('Shape: ', ten_zeros.shape)\n",
    "print('')\n",
    "print(ten_zeros)   "
   ]
  },
  {
   "cell_type": "markdown",
   "id": "93878120",
   "metadata": {},
   "source": [
    "### Tensor datatypes"
   ]
  },
  {
   "cell_type": "code",
   "execution_count": 15,
   "id": "a8a9edb0",
   "metadata": {},
   "outputs": [
    {
     "name": "stdout",
     "output_type": "stream",
     "text": [
      "Dimensões:  1\n",
      "Shape:      torch.Size([3])\n",
      "Type:       torch.float32\n",
      "Device:     cpu\n",
      "\n",
      "tensor([3., 6., 9.])\n"
     ]
    }
   ],
   "source": [
    "# Default datatype for tensors is float32\n",
    "float_32_tensor = torch.tensor([3.0, 6.0, 9.0],\n",
    "                               dtype=None, # defaults to None, which is torch.float32 or whatever datatype is passed\n",
    "                               device=None, # defaults to None, which uses the default tensor type\n",
    "                               requires_grad=False) # if True, operations performed on the tensor are recorded \n",
    "\n",
    "print('Dimensões: ', float_32_tensor.ndim)\n",
    "print('Shape:     ', float_32_tensor.shape)\n",
    "print('Type:      ', float_32_tensor.dtype)\n",
    "print('Device:    ', float_32_tensor.device)\n",
    "print('')\n",
    "print(float_32_tensor)   "
   ]
  },
  {
   "cell_type": "code",
   "execution_count": 16,
   "id": "6ec90fd1",
   "metadata": {},
   "outputs": [
    {
     "name": "stdout",
     "output_type": "stream",
     "text": [
      "Type:  torch.float16\n"
     ]
    }
   ],
   "source": [
    "# Tensor with type float16\n",
    "float_16_tensor = torch.tensor([3.0, 6.0, 9.0],\n",
    "                               dtype=torch.float16)\n",
    "print('Type: ', float_16_tensor.dtype)"
   ]
  },
  {
   "cell_type": "code",
   "execution_count": 17,
   "id": "bfc49a47",
   "metadata": {},
   "outputs": [
    {
     "name": "stdout",
     "output_type": "stream",
     "text": [
      "Type:  torch.float16\n"
     ]
    }
   ],
   "source": [
    "# Tensor with type float16\n",
    "float_16_tensor = torch.tensor([3.0, 6.0, 9.0],\n",
    "                               dtype=torch.half)\n",
    "print('Type: ', float_16_tensor.dtype)"
   ]
  },
  {
   "cell_type": "code",
   "execution_count": 18,
   "id": "d43bccd4",
   "metadata": {},
   "outputs": [
    {
     "name": "stdout",
     "output_type": "stream",
     "text": [
      "Type:  torch.int8\n"
     ]
    }
   ],
   "source": [
    "# Tensor with type 8-bit\n",
    "int_8_tensor = torch.tensor([3, 6, 9],\n",
    "                               dtype=torch.int8)\n",
    "print('Type: ', int_8_tensor.dtype)"
   ]
  },
  {
   "cell_type": "markdown",
   "id": "a1965fa0",
   "metadata": {},
   "source": [
    "### Tensor operations"
   ]
  },
  {
   "cell_type": "code",
   "execution_count": 19,
   "id": "03fdfc6d",
   "metadata": {},
   "outputs": [
    {
     "name": "stdout",
     "output_type": "stream",
     "text": [
      "tensor([11, 12, 13])\n"
     ]
    }
   ],
   "source": [
    "# Create a tensor and add 10 to it\n",
    "tensor = torch.tensor([1, 2, 3])\n",
    "tensor += 10\n",
    "print(tensor)"
   ]
  },
  {
   "cell_type": "code",
   "execution_count": 20,
   "id": "4d922f8a",
   "metadata": {},
   "outputs": [
    {
     "name": "stdout",
     "output_type": "stream",
     "text": [
      "tensor([-9, -8, -7])\n"
     ]
    }
   ],
   "source": [
    "# Substract tensor by 10 \n",
    "tensor = torch.tensor([1, 2, 3])\n",
    "tensor -= 10\n",
    "print(tensor)"
   ]
  },
  {
   "cell_type": "code",
   "execution_count": 21,
   "id": "6773c94c",
   "metadata": {},
   "outputs": [
    {
     "name": "stdout",
     "output_type": "stream",
     "text": [
      "tensor([10, 20, 30])\n"
     ]
    }
   ],
   "source": [
    "# Multiply tensor by 10\n",
    "tensor = torch.tensor([1, 2, 3])\n",
    "tensor *= 10\n",
    "print(tensor)"
   ]
  },
  {
   "cell_type": "code",
   "execution_count": 22,
   "id": "2164fc36",
   "metadata": {},
   "outputs": [
    {
     "name": "stdout",
     "output_type": "stream",
     "text": [
      "tensor([0.1000, 0.2000, 0.3000])\n"
     ]
    }
   ],
   "source": [
    "# Divide tensor by 10\n",
    "tensor = torch.tensor([1., 2., 3.])\n",
    "tensor *= 0.1\n",
    "print(tensor)"
   ]
  },
  {
   "cell_type": "code",
   "execution_count": 23,
   "id": "fdcf4140",
   "metadata": {},
   "outputs": [
    {
     "data": {
      "text/plain": [
       "tensor([10, 20, 30])"
      ]
     },
     "execution_count": 23,
     "metadata": {},
     "output_type": "execute_result"
    }
   ],
   "source": [
    "# Try out PyTorch in-built functions\n",
    "tensor = torch.tensor([1, 2, 3])\n",
    "torch.mul(tensor, 10)"
   ]
  },
  {
   "cell_type": "markdown",
   "id": "bf0ed2a1",
   "metadata": {},
   "source": [
    "### Matrix multiplication"
   ]
  },
  {
   "cell_type": "code",
   "execution_count": 59,
   "id": "aa4927e1",
   "metadata": {},
   "outputs": [
    {
     "name": "stdout",
     "output_type": "stream",
     "text": [
      "Tensor1 shape:  torch.Size([3])\n",
      "Tensor2 shape:  torch.Size([3])\n",
      "\n",
      "Resulting tensor:  tensor(-1.9401)\n",
      "Resulting shape:  torch.Size([])\n"
     ]
    }
   ],
   "source": [
    "# Inner dimensions must match:\n",
    "\n",
    "tensor1 = torch.randn(3)\n",
    "tensor2 = torch.randn(3)\n",
    "\n",
    "print('Tensor1 shape: ', tensor1.shape)\n",
    "print('Tensor2 shape: ', tensor2.shape)\n",
    "print()\n",
    "print('Resulting tensor: ', torch.matmul(tensor1, tensor2))\n",
    "print('Resulting shape: ', torch.matmul(tensor1, tensor2).shape)"
   ]
  },
  {
   "cell_type": "code",
   "execution_count": 63,
   "id": "e4235789",
   "metadata": {},
   "outputs": [
    {
     "name": "stdout",
     "output_type": "stream",
     "text": [
      "Resulting tensor:  tensor([[ 0.1686,  2.1511,  1.6121],\n",
      "        [ 0.7154,  1.8139, -2.1160],\n",
      "        [-0.2792, -0.6681,  0.4708]])\n"
     ]
    }
   ],
   "source": [
    "# Another way\n",
    "print('Resulting tensor: ', tensor1 @ tensor2)"
   ]
  },
  {
   "cell_type": "code",
   "execution_count": 62,
   "id": "323c6d18",
   "metadata": {},
   "outputs": [
    {
     "name": "stdout",
     "output_type": "stream",
     "text": [
      "Tensor1 shape:  torch.Size([3, 3])\n",
      "Tensor2 shape:  torch.Size([3, 3])\n",
      "\n",
      "Resulting tensor:  tensor([[ 0.1686,  2.1511,  1.6121],\n",
      "        [ 0.7154,  1.8139, -2.1160],\n",
      "        [-0.2792, -0.6681,  0.4708]])\n",
      "\n",
      "Resulting shape:  torch.Size([3, 3])\n"
     ]
    }
   ],
   "source": [
    "# Inner dimensions must match:\n",
    "\n",
    "tensor1 = torch.randn(3,3)\n",
    "tensor2 = torch.randn(3,3)\n",
    "\n",
    "print('Tensor1 shape: ', tensor1.shape)\n",
    "print('Tensor2 shape: ', tensor2.shape)\n",
    "print()\n",
    "print('Resulting tensor: ', torch.matmul(tensor1, tensor2))\n",
    "print()\n",
    "print('Resulting shape: ', torch.matmul(tensor1, tensor2).shape)"
   ]
  },
  {
   "cell_type": "code",
   "execution_count": 61,
   "id": "f1facd16",
   "metadata": {},
   "outputs": [
    {
     "name": "stdout",
     "output_type": "stream",
     "text": [
      "Tensor1 shape:  torch.Size([2, 2, 2])\n",
      "Tensor2 shape:  torch.Size([2, 2, 2])\n",
      "\n",
      "Resulting tensor:  tensor([[[-3.1993,  0.3359],\n",
      "         [-5.3388, -0.2914]],\n",
      "\n",
      "        [[ 1.7765,  0.1580],\n",
      "         [ 0.6964, -0.1051]]])\n",
      "\n",
      "Resulting shape:  torch.Size([2, 2, 2])\n"
     ]
    }
   ],
   "source": [
    "# Inner dimensions must match:\n",
    "\n",
    "tensor1 = torch.randn(2,2,2)\n",
    "tensor2 = torch.randn(2,2,2)\n",
    "\n",
    "print('Tensor1 shape: ', tensor1.shape)\n",
    "print('Tensor2 shape: ', tensor2.shape)\n",
    "print()\n",
    "print('Resulting tensor: ', torch.matmul(tensor1, tensor2))\n",
    "print()\n",
    "print('Resulting shape: ', torch.matmul(tensor1, tensor2).shape)"
   ]
  },
  {
   "cell_type": "code",
   "execution_count": 64,
   "id": "1ad095cb",
   "metadata": {},
   "outputs": [
    {
     "name": "stdout",
     "output_type": "stream",
     "text": [
      "Tensor1 shape:  torch.Size([3])\n",
      "Tensor2 shape:  torch.Size([3])\n",
      "\n",
      "Resulting tensor:  tensor([-0.0755, -1.8318,  1.1054])\n",
      "Resulting shape:  torch.Size([3])\n"
     ]
    }
   ],
   "source": [
    "# Also, element-wise multiplication:\n",
    "\n",
    "tensor1 = torch.randn(3)\n",
    "tensor2 = torch.randn(3)\n",
    "\n",
    "print('Tensor1 shape: ', tensor1.shape)\n",
    "print('Tensor2 shape: ', tensor2.shape)\n",
    "print()\n",
    "print('Resulting tensor: ', tensor1 * tensor2)\n",
    "print('Resulting shape: ', (tensor1 * tensor2).shape)"
   ]
  },
  {
   "cell_type": "code",
   "execution_count": 68,
   "id": "6f2366fe",
   "metadata": {},
   "outputs": [
    {
     "name": "stdout",
     "output_type": "stream",
     "text": [
      "Tensor1 shape:  torch.Size([3, 2])\n",
      "Tensor2 shape:  torch.Size([2, 3])\n",
      "\n",
      "Resulting tensor:  tensor([[-0.4450,  0.7958,  0.1773],\n",
      "        [ 1.0950, -0.7245, -0.1784],\n",
      "        [-0.0659, -1.1515, -0.2391]])\n",
      "\n",
      "Resulting shape:  torch.Size([3, 3])\n"
     ]
    }
   ],
   "source": [
    "# We can transpose tensors to match their dimensions\n",
    "\n",
    "tensor1 = torch.randn(3,2)\n",
    "tensor2 = torch.randn(3,2)\n",
    "\n",
    "tensor2 = torch.transpose(tensor2,0,1)\n",
    "\n",
    "print('Tensor1 shape: ', tensor1.shape)\n",
    "print('Tensor2 shape: ', tensor2.shape)\n",
    "print()\n",
    "print('Resulting tensor: ', torch.matmul(tensor1, tensor2))\n",
    "print()\n",
    "print('Resulting shape: ', torch.matmul(tensor1, tensor2).shape)"
   ]
  },
  {
   "cell_type": "code",
   "execution_count": 70,
   "id": "ea3fa486",
   "metadata": {},
   "outputs": [
    {
     "name": "stdout",
     "output_type": "stream",
     "text": [
      "Tensor1 shape:  torch.Size([3, 2])\n",
      "Tensor2 shape:  torch.Size([3, 2])\n",
      "\n",
      "Resulting tensor:  tensor([[-0.5426, -1.1066,  1.1268],\n",
      "        [ 0.7317,  0.2338, -0.3682],\n",
      "        [ 4.8520, -0.6241, -0.4516]])\n",
      "\n",
      "Resulting shape:  torch.Size([3, 3])\n"
     ]
    }
   ],
   "source": [
    "# Also \n",
    "\n",
    "\n",
    "tensor1 = torch.randn(3,2)\n",
    "tensor2 = torch.randn(3,2)\n",
    "\n",
    "print('Tensor1 shape: ', tensor1.shape)\n",
    "print('Tensor2 shape: ', tensor2.shape)\n",
    "print()\n",
    "print('Resulting tensor: ', torch.matmul(tensor1, tensor2.T))\n",
    "print()\n",
    "print('Resulting shape: ', torch.matmul(tensor1, tensor2.T).shape)"
   ]
  },
  {
   "cell_type": "code",
   "execution_count": 75,
   "id": "63a9460d",
   "metadata": {},
   "outputs": [
    {
     "name": "stdout",
     "output_type": "stream",
     "text": [
      "Input shape: torch.Size([3, 2])\n",
      "\n",
      "Output:\n",
      "tensor([[ 1.0246,  0.0043,  0.2204, -0.3602,  1.0342,  0.6352],\n",
      "        [ 0.4047,  0.3082,  0.4408,  0.1429,  0.1551, -0.1431],\n",
      "        [ 0.7088,  1.6588,  0.8948,  1.3228, -1.5753, -0.7285]],\n",
      "       grad_fn=<AddmmBackward0>)\n",
      "\n",
      "Output shape: torch.Size([3, 6])\n"
     ]
    }
   ],
   "source": [
    "# Since the linear layer starts with a random weights matrix, let's make it reproducible (more on this later)\n",
    "torch.manual_seed(42)\n",
    "\n",
    "# This uses matrix multiplication\n",
    "linear = torch.nn.Linear(in_features=2, # in_features = matches inner dimension of input \n",
    "                         out_features=6) # out_features = describes outer value \n",
    "\n",
    "x = tensor1\n",
    "output = linear(x)\n",
    "\n",
    "print(f\"Input shape: {x.shape}\\n\")\n",
    "print(f\"Output:\\n{output}\\n\\nOutput shape: {output.shape}\")"
   ]
  },
  {
   "cell_type": "markdown",
   "id": "4bf58605",
   "metadata": {},
   "source": [
    "### Finding the min, max, mean, sum, etc (aggregation)"
   ]
  },
  {
   "cell_type": "code",
   "execution_count": 77,
   "id": "cf52e8fd",
   "metadata": {},
   "outputs": [
    {
     "name": "stdout",
     "output_type": "stream",
     "text": [
      "tensor([ 0, 10, 20, 30, 40, 50, 60, 70, 80, 90])\n"
     ]
    }
   ],
   "source": [
    "# Create a tensor\n",
    "x = torch.arange(0, 100, 10)\n",
    "print(x)"
   ]
  },
  {
   "cell_type": "code",
   "execution_count": 78,
   "id": "28bde885",
   "metadata": {},
   "outputs": [
    {
     "name": "stdout",
     "output_type": "stream",
     "text": [
      "Minimum: 0\n",
      "Maximum: 90\n",
      "Mean: 45.0\n",
      "Sum: 450\n"
     ]
    }
   ],
   "source": [
    "# let's perform some aggregation\n",
    "\n",
    "print(f\"Minimum: {x.min()}\")\n",
    "print(f\"Maximum: {x.max()}\")\n",
    "# print(f\"Mean: {x.mean()}\") # this will error\n",
    "print(f\"Mean: {x.type(torch.float32).mean()}\") # won't work without float datatype\n",
    "print(f\"Sum: {x.sum()}\")"
   ]
  },
  {
   "cell_type": "code",
   "execution_count": 79,
   "id": "f55bcd60",
   "metadata": {},
   "outputs": [
    {
     "name": "stdout",
     "output_type": "stream",
     "text": [
      "Tensor: tensor([10, 20, 30, 40, 50, 60, 70, 80, 90])\n",
      "Index where max value occurs: 8\n",
      "Index where min value occurs: 0\n"
     ]
    }
   ],
   "source": [
    "# Create a tensor\n",
    "tensor = torch.arange(10, 100, 10)\n",
    "print(f\"Tensor: {tensor}\")\n",
    "\n",
    "# Returns index of max and min values\n",
    "print(f\"Index where max value occurs: {tensor.argmax()}\")\n",
    "print(f\"Index where min value occurs: {tensor.argmin()}\")"
   ]
  },
  {
   "cell_type": "markdown",
   "id": "b59e5e80",
   "metadata": {},
   "source": [
    "### Change tensor datatype"
   ]
  },
  {
   "cell_type": "code",
   "execution_count": 80,
   "id": "f222ae74",
   "metadata": {},
   "outputs": [
    {
     "data": {
      "text/plain": [
       "torch.float32"
      ]
     },
     "execution_count": 80,
     "metadata": {},
     "output_type": "execute_result"
    }
   ],
   "source": [
    "# Create a tensor and check its datatype\n",
    "tensor = torch.arange(10., 100., 10.)\n",
    "tensor.dtype"
   ]
  },
  {
   "cell_type": "code",
   "execution_count": 81,
   "id": "902f6fef",
   "metadata": {},
   "outputs": [
    {
     "data": {
      "text/plain": [
       "tensor([10., 20., 30., 40., 50., 60., 70., 80., 90.], dtype=torch.float16)"
      ]
     },
     "execution_count": 81,
     "metadata": {},
     "output_type": "execute_result"
    }
   ],
   "source": [
    "# Create a float16 tensor\n",
    "tensor_float16 = tensor.type(torch.float16)\n",
    "tensor_float16"
   ]
  },
  {
   "cell_type": "code",
   "execution_count": 89,
   "id": "e99d32ed",
   "metadata": {},
   "outputs": [
    {
     "data": {
      "text/plain": [
       "tensor([10., 20., 30., 40., 50., 60., 70., 80., 90.])"
      ]
     },
     "execution_count": 89,
     "metadata": {},
     "output_type": "execute_result"
    }
   ],
   "source": [
    "# Change tensor type:\n",
    "tensor_float16.type(dtype=torch.float32)"
   ]
  },
  {
   "cell_type": "code",
   "execution_count": 82,
   "id": "08f12697",
   "metadata": {},
   "outputs": [
    {
     "data": {
      "text/plain": [
       "tensor([10, 20, 30, 40, 50, 60, 70, 80, 90], dtype=torch.int8)"
      ]
     },
     "execution_count": 82,
     "metadata": {},
     "output_type": "execute_result"
    }
   ],
   "source": [
    "# Create a int8 tensor\n",
    "tensor_int8 = tensor.type(torch.int8)\n",
    "tensor_int8"
   ]
  },
  {
   "cell_type": "code",
   "execution_count": 91,
   "id": "b5bdc78c",
   "metadata": {},
   "outputs": [
    {
     "data": {
      "text/plain": [
       "tensor([10., 20., 30., 40., 50., 60., 70., 80., 90.])"
      ]
     },
     "execution_count": 91,
     "metadata": {},
     "output_type": "execute_result"
    }
   ],
   "source": [
    "# Change tensor type:\n",
    "tensor_int8.type(dtype=torch.float32)"
   ]
  },
  {
   "cell_type": "markdown",
   "id": "c9ee6f7d",
   "metadata": {},
   "source": [
    "### Reshaping, stacking, squeezing and unsqueezing"
   ]
  },
  {
   "cell_type": "code",
   "execution_count": 92,
   "id": "1a43cf43",
   "metadata": {},
   "outputs": [
    {
     "data": {
      "text/plain": [
       "(tensor([1., 2., 3., 4., 5., 6., 7.]), torch.Size([7]))"
      ]
     },
     "execution_count": 92,
     "metadata": {},
     "output_type": "execute_result"
    }
   ],
   "source": [
    "# Create a tensor\n",
    "import torch\n",
    "x = torch.arange(1., 8.)\n",
    "x, x.shape"
   ]
  },
  {
   "cell_type": "code",
   "execution_count": 93,
   "id": "00b40587",
   "metadata": {},
   "outputs": [
    {
     "data": {
      "text/plain": [
       "(tensor([[1., 2., 3., 4., 5., 6., 7.]]), torch.Size([1, 7]))"
      ]
     },
     "execution_count": 93,
     "metadata": {},
     "output_type": "execute_result"
    }
   ],
   "source": [
    "# Add an extra dimension\n",
    "x_reshaped = x.reshape(1, 7)\n",
    "x_reshaped, x_reshaped.shape"
   ]
  },
  {
   "cell_type": "code",
   "execution_count": 94,
   "id": "03579e05",
   "metadata": {},
   "outputs": [
    {
     "data": {
      "text/plain": [
       "(tensor([[1., 2., 3., 4., 5., 6., 7.]]), torch.Size([1, 7]))"
      ]
     },
     "execution_count": 94,
     "metadata": {},
     "output_type": "execute_result"
    }
   ],
   "source": [
    "# Change view (keeps same data as original but changes view)\n",
    "z = x.view(1, 7)\n",
    "z, z.shape"
   ]
  },
  {
   "cell_type": "code",
   "execution_count": 95,
   "id": "980a8a44",
   "metadata": {},
   "outputs": [
    {
     "data": {
      "text/plain": [
       "(tensor([[5., 2., 3., 4., 5., 6., 7.]]), tensor([5., 2., 3., 4., 5., 6., 7.]))"
      ]
     },
     "execution_count": 95,
     "metadata": {},
     "output_type": "execute_result"
    }
   ],
   "source": [
    "# Changing z changes x\n",
    "z[:, 0] = 5\n",
    "z, x"
   ]
  },
  {
   "cell_type": "code",
   "execution_count": 96,
   "id": "b8a43bd8",
   "metadata": {},
   "outputs": [
    {
     "data": {
      "text/plain": [
       "tensor([[5., 2., 3., 4., 5., 6., 7.],\n",
       "        [5., 2., 3., 4., 5., 6., 7.],\n",
       "        [5., 2., 3., 4., 5., 6., 7.],\n",
       "        [5., 2., 3., 4., 5., 6., 7.]])"
      ]
     },
     "execution_count": 96,
     "metadata": {},
     "output_type": "execute_result"
    }
   ],
   "source": [
    "# Stack tensors on top of each other\n",
    "x_stacked = torch.stack([x, x, x, x], dim=0) # try changing dim to dim=1 and see what happens\n",
    "x_stacked"
   ]
  },
  {
   "cell_type": "code",
   "execution_count": 97,
   "id": "e000f57c",
   "metadata": {},
   "outputs": [
    {
     "name": "stdout",
     "output_type": "stream",
     "text": [
      "Previous tensor: tensor([[5., 2., 3., 4., 5., 6., 7.]])\n",
      "Previous shape: torch.Size([1, 7])\n",
      "\n",
      "New tensor: tensor([5., 2., 3., 4., 5., 6., 7.])\n",
      "New shape: torch.Size([7])\n"
     ]
    }
   ],
   "source": [
    "print(f\"Previous tensor: {x_reshaped}\")\n",
    "print(f\"Previous shape: {x_reshaped.shape}\")\n",
    "\n",
    "# Remove extra dimension from x_reshaped\n",
    "x_squeezed = x_reshaped.squeeze()\n",
    "print(f\"\\nNew tensor: {x_squeezed}\")\n",
    "print(f\"New shape: {x_squeezed.shape}\")"
   ]
  },
  {
   "cell_type": "code",
   "execution_count": 98,
   "id": "cbec9df3",
   "metadata": {},
   "outputs": [
    {
     "name": "stdout",
     "output_type": "stream",
     "text": [
      "Previous tensor: tensor([5., 2., 3., 4., 5., 6., 7.])\n",
      "Previous shape: torch.Size([7])\n",
      "\n",
      "New tensor: tensor([[5., 2., 3., 4., 5., 6., 7.]])\n",
      "New shape: torch.Size([1, 7])\n"
     ]
    }
   ],
   "source": [
    "print(f\"Previous tensor: {x_squeezed}\")\n",
    "print(f\"Previous shape: {x_squeezed.shape}\")\n",
    "\n",
    "## Add an extra dimension with unsqueeze\n",
    "x_unsqueezed = x_squeezed.unsqueeze(dim=0)\n",
    "print(f\"\\nNew tensor: {x_unsqueezed}\")\n",
    "print(f\"New shape: {x_unsqueezed.shape}\")"
   ]
  },
  {
   "cell_type": "code",
   "execution_count": 99,
   "id": "bfa62b88",
   "metadata": {},
   "outputs": [
    {
     "name": "stdout",
     "output_type": "stream",
     "text": [
      "Previous shape: torch.Size([224, 224, 3])\n",
      "New shape: torch.Size([3, 224, 224])\n"
     ]
    }
   ],
   "source": [
    "# Create tensor with specific shape\n",
    "x_original = torch.rand(size=(224, 224, 3))\n",
    "\n",
    "# Permute the original tensor to rearrange the axis order\n",
    "x_permuted = x_original.permute(2, 0, 1) # shifts axis 0->1, 1->2, 2->0\n",
    "\n",
    "print(f\"Previous shape: {x_original.shape}\")\n",
    "print(f\"New shape: {x_permuted.shape}\")"
   ]
  },
  {
   "cell_type": "markdown",
   "id": "458c70e2-b409-4ea1-88c6-36cdcb13a5ce",
   "metadata": {},
   "source": [
    "### Indexing"
   ]
  },
  {
   "cell_type": "code",
   "execution_count": 4,
   "id": "dc3da739-0a98-4c6b-b693-047ed12fe825",
   "metadata": {},
   "outputs": [
    {
     "ename": "OSError",
     "evalue": "[WinError 126] Não foi possível encontrar o módulo especificado. Error loading \"C:\\Users\\Nathan Ferig\\AppData\\Local\\Packages\\PythonSoftwareFoundation.Python.3.12_qbz5n2kfra8p0\\LocalCache\\local-packages\\Python312\\site-packages\\torch\\lib\\fbgemm.dll\" or one of its dependencies.",
     "output_type": "error",
     "traceback": [
      "\u001b[1;31m---------------------------------------------------------------------------\u001b[0m",
      "\u001b[1;31mOSError\u001b[0m                                   Traceback (most recent call last)",
      "Cell \u001b[1;32mIn[4], line 2\u001b[0m\n\u001b[0;32m      1\u001b[0m \u001b[38;5;66;03m# Create a tensor \u001b[39;00m\n\u001b[1;32m----> 2\u001b[0m \u001b[38;5;28;01mimport\u001b[39;00m \u001b[38;5;21;01mtorch\u001b[39;00m\n\u001b[0;32m      3\u001b[0m x \u001b[38;5;241m=\u001b[39m torch\u001b[38;5;241m.\u001b[39marange(\u001b[38;5;241m1\u001b[39m, \u001b[38;5;241m10\u001b[39m)\u001b[38;5;241m.\u001b[39mreshape(\u001b[38;5;241m1\u001b[39m, \u001b[38;5;241m3\u001b[39m, \u001b[38;5;241m3\u001b[39m)\n\u001b[0;32m      4\u001b[0m x, x\u001b[38;5;241m.\u001b[39mshape\n",
      "File \u001b[1;32m~\\AppData\\Local\\Packages\\PythonSoftwareFoundation.Python.3.12_qbz5n2kfra8p0\\LocalCache\\local-packages\\Python312\\site-packages\\torch\\__init__.py:148\u001b[0m\n\u001b[0;32m    146\u001b[0m                 err \u001b[38;5;241m=\u001b[39m ctypes\u001b[38;5;241m.\u001b[39mWinError(ctypes\u001b[38;5;241m.\u001b[39mget_last_error())\n\u001b[0;32m    147\u001b[0m                 err\u001b[38;5;241m.\u001b[39mstrerror \u001b[38;5;241m+\u001b[39m\u001b[38;5;241m=\u001b[39m \u001b[38;5;124mf\u001b[39m\u001b[38;5;124m'\u001b[39m\u001b[38;5;124m Error loading \u001b[39m\u001b[38;5;124m\"\u001b[39m\u001b[38;5;132;01m{\u001b[39;00mdll\u001b[38;5;132;01m}\u001b[39;00m\u001b[38;5;124m\"\u001b[39m\u001b[38;5;124m or one of its dependencies.\u001b[39m\u001b[38;5;124m'\u001b[39m\n\u001b[1;32m--> 148\u001b[0m                 \u001b[38;5;28;01mraise\u001b[39;00m err\n\u001b[0;32m    150\u001b[0m     kernel32\u001b[38;5;241m.\u001b[39mSetErrorMode(prev_error_mode)\n\u001b[0;32m    153\u001b[0m \u001b[38;5;28;01mdef\u001b[39;00m \u001b[38;5;21m_preload_cuda_deps\u001b[39m(lib_folder, lib_name):\n",
      "\u001b[1;31mOSError\u001b[0m: [WinError 126] Não foi possível encontrar o módulo especificado. Error loading \"C:\\Users\\Nathan Ferig\\AppData\\Local\\Packages\\PythonSoftwareFoundation.Python.3.12_qbz5n2kfra8p0\\LocalCache\\local-packages\\Python312\\site-packages\\torch\\lib\\fbgemm.dll\" or one of its dependencies."
     ]
    }
   ],
   "source": [
    "# Create a tensor \n",
    "import torch\n",
    "x = torch.arange(1, 10).reshape(1, 3, 3)\n",
    "x, x.shape"
   ]
  },
  {
   "cell_type": "code",
   "execution_count": null,
   "id": "083b1b3f-45d4-4ffc-94de-c339203badf2",
   "metadata": {},
   "outputs": [],
   "source": []
  }
 ],
 "metadata": {
  "kernelspec": {
   "display_name": "Python 3 (ipykernel)",
   "language": "python",
   "name": "python3"
  },
  "language_info": {
   "codemirror_mode": {
    "name": "ipython",
    "version": 3
   },
   "file_extension": ".py",
   "mimetype": "text/x-python",
   "name": "python",
   "nbconvert_exporter": "python",
   "pygments_lexer": "ipython3",
   "version": "3.12.5"
  }
 },
 "nbformat": 4,
 "nbformat_minor": 5
}
